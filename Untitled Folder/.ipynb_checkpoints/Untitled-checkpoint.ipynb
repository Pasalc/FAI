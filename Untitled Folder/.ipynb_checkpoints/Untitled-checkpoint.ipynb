{
 "cells": [
  {
   "cell_type": "code",
   "execution_count": 126,
   "id": "protective-array",
   "metadata": {},
   "outputs": [],
   "source": [
    "import numpy as np\n",
    "import scipy as si\n",
    "import scipy.optimize as op\n",
    "import sympy as sp\n",
    "import matplotlib.pyplot as plt\n",
    "import plotly.graph_objects as go\n",
    "\n",
    "%matplotlib notebook"
   ]
  },
  {
   "cell_type": "code",
   "execution_count": 147,
   "id": "vietnamese-invalid",
   "metadata": {},
   "outputs": [],
   "source": [
    "def descend(a,grad,step):\n",
    "    return a-step*grad\n",
    "def grad(f,df,x0,step=0.01,eps=0.000001,max_iter=10000):\n",
    "    iter=0\n",
    "    ans_x=[x0[0]]\n",
    "    ans_y=[x0[1]]\n",
    "    ans_z=[np.array(f(x0))]\n",
    "    while iter<max_iter:\n",
    "        x0 = x0 - step*df(x0)\n",
    "        ans_x.append(x0[0])\n",
    "        ans_y.append(x0[1])\n",
    "        ans_z.append(np.array(f(x0)))\n",
    "        if np.linalg.norm(df(x0))<eps:\n",
    "            break\n",
    "    return ans_x,ans_y,ans_z\n",
    "def func(x,y,z):\n",
    "    return 2*x**2+ 3 *y**2 - 4*z"
   ]
  },
  {
   "cell_type": "code",
   "execution_count": 148,
   "id": "indie-cooper",
   "metadata": {
    "scrolled": true
   },
   "outputs": [],
   "source": [
    "test_case=lambda x:( x[0]**2 + x[1]**2) ,lambda x: np.array([2*x[0],2*x[1]])\n",
    "x,y,z=grad(test_case[0],test_case[1],np.array([1,1]))"
   ]
  },
  {
   "cell_type": "code",
   "execution_count": 149,
   "id": "portable-teacher",
   "metadata": {},
   "outputs": [
    {
     "data": {
      "application/javascript": [
       "/* Put everything inside the global mpl namespace */\n",
       "/* global mpl */\n",
       "window.mpl = {};\n",
       "\n",
       "mpl.get_websocket_type = function () {\n",
       "    if (typeof WebSocket !== 'undefined') {\n",
       "        return WebSocket;\n",
       "    } else if (typeof MozWebSocket !== 'undefined') {\n",
       "        return MozWebSocket;\n",
       "    } else {\n",
       "        alert(\n",
       "            'Your browser does not have WebSocket support. ' +\n",
       "                'Please try Chrome, Safari or Firefox ≥ 6. ' +\n",
       "                'Firefox 4 and 5 are also supported but you ' +\n",
       "                'have to enable WebSockets in about:config.'\n",
       "        );\n",
       "    }\n",
       "};\n",
       "\n",
       "mpl.figure = function (figure_id, websocket, ondownload, parent_element) {\n",
       "    this.id = figure_id;\n",
       "\n",
       "    this.ws = websocket;\n",
       "\n",
       "    this.supports_binary = this.ws.binaryType !== undefined;\n",
       "\n",
       "    if (!this.supports_binary) {\n",
       "        var warnings = document.getElementById('mpl-warnings');\n",
       "        if (warnings) {\n",
       "            warnings.style.display = 'block';\n",
       "            warnings.textContent =\n",
       "                'This browser does not support binary websocket messages. ' +\n",
       "                'Performance may be slow.';\n",
       "        }\n",
       "    }\n",
       "\n",
       "    this.imageObj = new Image();\n",
       "\n",
       "    this.context = undefined;\n",
       "    this.message = undefined;\n",
       "    this.canvas = undefined;\n",
       "    this.rubberband_canvas = undefined;\n",
       "    this.rubberband_context = undefined;\n",
       "    this.format_dropdown = undefined;\n",
       "\n",
       "    this.image_mode = 'full';\n",
       "\n",
       "    this.root = document.createElement('div');\n",
       "    this.root.setAttribute('style', 'display: inline-block');\n",
       "    this._root_extra_style(this.root);\n",
       "\n",
       "    parent_element.appendChild(this.root);\n",
       "\n",
       "    this._init_header(this);\n",
       "    this._init_canvas(this);\n",
       "    this._init_toolbar(this);\n",
       "\n",
       "    var fig = this;\n",
       "\n",
       "    this.waiting = false;\n",
       "\n",
       "    this.ws.onopen = function () {\n",
       "        fig.send_message('supports_binary', { value: fig.supports_binary });\n",
       "        fig.send_message('send_image_mode', {});\n",
       "        if (fig.ratio !== 1) {\n",
       "            fig.send_message('set_dpi_ratio', { dpi_ratio: fig.ratio });\n",
       "        }\n",
       "        fig.send_message('refresh', {});\n",
       "    };\n",
       "\n",
       "    this.imageObj.onload = function () {\n",
       "        if (fig.image_mode === 'full') {\n",
       "            // Full images could contain transparency (where diff images\n",
       "            // almost always do), so we need to clear the canvas so that\n",
       "            // there is no ghosting.\n",
       "            fig.context.clearRect(0, 0, fig.canvas.width, fig.canvas.height);\n",
       "        }\n",
       "        fig.context.drawImage(fig.imageObj, 0, 0);\n",
       "    };\n",
       "\n",
       "    this.imageObj.onunload = function () {\n",
       "        fig.ws.close();\n",
       "    };\n",
       "\n",
       "    this.ws.onmessage = this._make_on_message_function(this);\n",
       "\n",
       "    this.ondownload = ondownload;\n",
       "};\n",
       "\n",
       "mpl.figure.prototype._init_header = function () {\n",
       "    var titlebar = document.createElement('div');\n",
       "    titlebar.classList =\n",
       "        'ui-dialog-titlebar ui-widget-header ui-corner-all ui-helper-clearfix';\n",
       "    var titletext = document.createElement('div');\n",
       "    titletext.classList = 'ui-dialog-title';\n",
       "    titletext.setAttribute(\n",
       "        'style',\n",
       "        'width: 100%; text-align: center; padding: 3px;'\n",
       "    );\n",
       "    titlebar.appendChild(titletext);\n",
       "    this.root.appendChild(titlebar);\n",
       "    this.header = titletext;\n",
       "};\n",
       "\n",
       "mpl.figure.prototype._canvas_extra_style = function (_canvas_div) {};\n",
       "\n",
       "mpl.figure.prototype._root_extra_style = function (_canvas_div) {};\n",
       "\n",
       "mpl.figure.prototype._init_canvas = function () {\n",
       "    var fig = this;\n",
       "\n",
       "    var canvas_div = (this.canvas_div = document.createElement('div'));\n",
       "    canvas_div.setAttribute(\n",
       "        'style',\n",
       "        'border: 1px solid #ddd;' +\n",
       "            'box-sizing: content-box;' +\n",
       "            'clear: both;' +\n",
       "            'min-height: 1px;' +\n",
       "            'min-width: 1px;' +\n",
       "            'outline: 0;' +\n",
       "            'overflow: hidden;' +\n",
       "            'position: relative;' +\n",
       "            'resize: both;'\n",
       "    );\n",
       "\n",
       "    function on_keyboard_event_closure(name) {\n",
       "        return function (event) {\n",
       "            return fig.key_event(event, name);\n",
       "        };\n",
       "    }\n",
       "\n",
       "    canvas_div.addEventListener(\n",
       "        'keydown',\n",
       "        on_keyboard_event_closure('key_press')\n",
       "    );\n",
       "    canvas_div.addEventListener(\n",
       "        'keyup',\n",
       "        on_keyboard_event_closure('key_release')\n",
       "    );\n",
       "\n",
       "    this._canvas_extra_style(canvas_div);\n",
       "    this.root.appendChild(canvas_div);\n",
       "\n",
       "    var canvas = (this.canvas = document.createElement('canvas'));\n",
       "    canvas.classList.add('mpl-canvas');\n",
       "    canvas.setAttribute('style', 'box-sizing: content-box;');\n",
       "\n",
       "    this.context = canvas.getContext('2d');\n",
       "\n",
       "    var backingStore =\n",
       "        this.context.backingStorePixelRatio ||\n",
       "        this.context.webkitBackingStorePixelRatio ||\n",
       "        this.context.mozBackingStorePixelRatio ||\n",
       "        this.context.msBackingStorePixelRatio ||\n",
       "        this.context.oBackingStorePixelRatio ||\n",
       "        this.context.backingStorePixelRatio ||\n",
       "        1;\n",
       "\n",
       "    this.ratio = (window.devicePixelRatio || 1) / backingStore;\n",
       "\n",
       "    var rubberband_canvas = (this.rubberband_canvas = document.createElement(\n",
       "        'canvas'\n",
       "    ));\n",
       "    rubberband_canvas.setAttribute(\n",
       "        'style',\n",
       "        'box-sizing: content-box; position: absolute; left: 0; top: 0; z-index: 1;'\n",
       "    );\n",
       "\n",
       "    // Apply a ponyfill if ResizeObserver is not implemented by browser.\n",
       "    if (this.ResizeObserver === undefined) {\n",
       "        if (window.ResizeObserver !== undefined) {\n",
       "            this.ResizeObserver = window.ResizeObserver;\n",
       "        } else {\n",
       "            var obs = _JSXTOOLS_RESIZE_OBSERVER({});\n",
       "            this.ResizeObserver = obs.ResizeObserver;\n",
       "        }\n",
       "    }\n",
       "\n",
       "    this.resizeObserverInstance = new this.ResizeObserver(function (entries) {\n",
       "        var nentries = entries.length;\n",
       "        for (var i = 0; i < nentries; i++) {\n",
       "            var entry = entries[i];\n",
       "            var width, height;\n",
       "            if (entry.contentBoxSize) {\n",
       "                if (entry.contentBoxSize instanceof Array) {\n",
       "                    // Chrome 84 implements new version of spec.\n",
       "                    width = entry.contentBoxSize[0].inlineSize;\n",
       "                    height = entry.contentBoxSize[0].blockSize;\n",
       "                } else {\n",
       "                    // Firefox implements old version of spec.\n",
       "                    width = entry.contentBoxSize.inlineSize;\n",
       "                    height = entry.contentBoxSize.blockSize;\n",
       "                }\n",
       "            } else {\n",
       "                // Chrome <84 implements even older version of spec.\n",
       "                width = entry.contentRect.width;\n",
       "                height = entry.contentRect.height;\n",
       "            }\n",
       "\n",
       "            // Keep the size of the canvas and rubber band canvas in sync with\n",
       "            // the canvas container.\n",
       "            if (entry.devicePixelContentBoxSize) {\n",
       "                // Chrome 84 implements new version of spec.\n",
       "                canvas.setAttribute(\n",
       "                    'width',\n",
       "                    entry.devicePixelContentBoxSize[0].inlineSize\n",
       "                );\n",
       "                canvas.setAttribute(\n",
       "                    'height',\n",
       "                    entry.devicePixelContentBoxSize[0].blockSize\n",
       "                );\n",
       "            } else {\n",
       "                canvas.setAttribute('width', width * fig.ratio);\n",
       "                canvas.setAttribute('height', height * fig.ratio);\n",
       "            }\n",
       "            canvas.setAttribute(\n",
       "                'style',\n",
       "                'width: ' + width + 'px; height: ' + height + 'px;'\n",
       "            );\n",
       "\n",
       "            rubberband_canvas.setAttribute('width', width);\n",
       "            rubberband_canvas.setAttribute('height', height);\n",
       "\n",
       "            // And update the size in Python. We ignore the initial 0/0 size\n",
       "            // that occurs as the element is placed into the DOM, which should\n",
       "            // otherwise not happen due to the minimum size styling.\n",
       "            if (fig.ws.readyState == 1 && width != 0 && height != 0) {\n",
       "                fig.request_resize(width, height);\n",
       "            }\n",
       "        }\n",
       "    });\n",
       "    this.resizeObserverInstance.observe(canvas_div);\n",
       "\n",
       "    function on_mouse_event_closure(name) {\n",
       "        return function (event) {\n",
       "            return fig.mouse_event(event, name);\n",
       "        };\n",
       "    }\n",
       "\n",
       "    rubberband_canvas.addEventListener(\n",
       "        'mousedown',\n",
       "        on_mouse_event_closure('button_press')\n",
       "    );\n",
       "    rubberband_canvas.addEventListener(\n",
       "        'mouseup',\n",
       "        on_mouse_event_closure('button_release')\n",
       "    );\n",
       "    // Throttle sequential mouse events to 1 every 20ms.\n",
       "    rubberband_canvas.addEventListener(\n",
       "        'mousemove',\n",
       "        on_mouse_event_closure('motion_notify')\n",
       "    );\n",
       "\n",
       "    rubberband_canvas.addEventListener(\n",
       "        'mouseenter',\n",
       "        on_mouse_event_closure('figure_enter')\n",
       "    );\n",
       "    rubberband_canvas.addEventListener(\n",
       "        'mouseleave',\n",
       "        on_mouse_event_closure('figure_leave')\n",
       "    );\n",
       "\n",
       "    canvas_div.addEventListener('wheel', function (event) {\n",
       "        if (event.deltaY < 0) {\n",
       "            event.step = 1;\n",
       "        } else {\n",
       "            event.step = -1;\n",
       "        }\n",
       "        on_mouse_event_closure('scroll')(event);\n",
       "    });\n",
       "\n",
       "    canvas_div.appendChild(canvas);\n",
       "    canvas_div.appendChild(rubberband_canvas);\n",
       "\n",
       "    this.rubberband_context = rubberband_canvas.getContext('2d');\n",
       "    this.rubberband_context.strokeStyle = '#000000';\n",
       "\n",
       "    this._resize_canvas = function (width, height, forward) {\n",
       "        if (forward) {\n",
       "            canvas_div.style.width = width + 'px';\n",
       "            canvas_div.style.height = height + 'px';\n",
       "        }\n",
       "    };\n",
       "\n",
       "    // Disable right mouse context menu.\n",
       "    this.rubberband_canvas.addEventListener('contextmenu', function (_e) {\n",
       "        event.preventDefault();\n",
       "        return false;\n",
       "    });\n",
       "\n",
       "    function set_focus() {\n",
       "        canvas.focus();\n",
       "        canvas_div.focus();\n",
       "    }\n",
       "\n",
       "    window.setTimeout(set_focus, 100);\n",
       "};\n",
       "\n",
       "mpl.figure.prototype._init_toolbar = function () {\n",
       "    var fig = this;\n",
       "\n",
       "    var toolbar = document.createElement('div');\n",
       "    toolbar.classList = 'mpl-toolbar';\n",
       "    this.root.appendChild(toolbar);\n",
       "\n",
       "    function on_click_closure(name) {\n",
       "        return function (_event) {\n",
       "            return fig.toolbar_button_onclick(name);\n",
       "        };\n",
       "    }\n",
       "\n",
       "    function on_mouseover_closure(tooltip) {\n",
       "        return function (event) {\n",
       "            if (!event.currentTarget.disabled) {\n",
       "                return fig.toolbar_button_onmouseover(tooltip);\n",
       "            }\n",
       "        };\n",
       "    }\n",
       "\n",
       "    fig.buttons = {};\n",
       "    var buttonGroup = document.createElement('div');\n",
       "    buttonGroup.classList = 'mpl-button-group';\n",
       "    for (var toolbar_ind in mpl.toolbar_items) {\n",
       "        var name = mpl.toolbar_items[toolbar_ind][0];\n",
       "        var tooltip = mpl.toolbar_items[toolbar_ind][1];\n",
       "        var image = mpl.toolbar_items[toolbar_ind][2];\n",
       "        var method_name = mpl.toolbar_items[toolbar_ind][3];\n",
       "\n",
       "        if (!name) {\n",
       "            /* Instead of a spacer, we start a new button group. */\n",
       "            if (buttonGroup.hasChildNodes()) {\n",
       "                toolbar.appendChild(buttonGroup);\n",
       "            }\n",
       "            buttonGroup = document.createElement('div');\n",
       "            buttonGroup.classList = 'mpl-button-group';\n",
       "            continue;\n",
       "        }\n",
       "\n",
       "        var button = (fig.buttons[name] = document.createElement('button'));\n",
       "        button.classList = 'mpl-widget';\n",
       "        button.setAttribute('role', 'button');\n",
       "        button.setAttribute('aria-disabled', 'false');\n",
       "        button.addEventListener('click', on_click_closure(method_name));\n",
       "        button.addEventListener('mouseover', on_mouseover_closure(tooltip));\n",
       "\n",
       "        var icon_img = document.createElement('img');\n",
       "        icon_img.src = '_images/' + image + '.png';\n",
       "        icon_img.srcset = '_images/' + image + '_large.png 2x';\n",
       "        icon_img.alt = tooltip;\n",
       "        button.appendChild(icon_img);\n",
       "\n",
       "        buttonGroup.appendChild(button);\n",
       "    }\n",
       "\n",
       "    if (buttonGroup.hasChildNodes()) {\n",
       "        toolbar.appendChild(buttonGroup);\n",
       "    }\n",
       "\n",
       "    var fmt_picker = document.createElement('select');\n",
       "    fmt_picker.classList = 'mpl-widget';\n",
       "    toolbar.appendChild(fmt_picker);\n",
       "    this.format_dropdown = fmt_picker;\n",
       "\n",
       "    for (var ind in mpl.extensions) {\n",
       "        var fmt = mpl.extensions[ind];\n",
       "        var option = document.createElement('option');\n",
       "        option.selected = fmt === mpl.default_extension;\n",
       "        option.innerHTML = fmt;\n",
       "        fmt_picker.appendChild(option);\n",
       "    }\n",
       "\n",
       "    var status_bar = document.createElement('span');\n",
       "    status_bar.classList = 'mpl-message';\n",
       "    toolbar.appendChild(status_bar);\n",
       "    this.message = status_bar;\n",
       "};\n",
       "\n",
       "mpl.figure.prototype.request_resize = function (x_pixels, y_pixels) {\n",
       "    // Request matplotlib to resize the figure. Matplotlib will then trigger a resize in the client,\n",
       "    // which will in turn request a refresh of the image.\n",
       "    this.send_message('resize', { width: x_pixels, height: y_pixels });\n",
       "};\n",
       "\n",
       "mpl.figure.prototype.send_message = function (type, properties) {\n",
       "    properties['type'] = type;\n",
       "    properties['figure_id'] = this.id;\n",
       "    this.ws.send(JSON.stringify(properties));\n",
       "};\n",
       "\n",
       "mpl.figure.prototype.send_draw_message = function () {\n",
       "    if (!this.waiting) {\n",
       "        this.waiting = true;\n",
       "        this.ws.send(JSON.stringify({ type: 'draw', figure_id: this.id }));\n",
       "    }\n",
       "};\n",
       "\n",
       "mpl.figure.prototype.handle_save = function (fig, _msg) {\n",
       "    var format_dropdown = fig.format_dropdown;\n",
       "    var format = format_dropdown.options[format_dropdown.selectedIndex].value;\n",
       "    fig.ondownload(fig, format);\n",
       "};\n",
       "\n",
       "mpl.figure.prototype.handle_resize = function (fig, msg) {\n",
       "    var size = msg['size'];\n",
       "    if (size[0] !== fig.canvas.width || size[1] !== fig.canvas.height) {\n",
       "        fig._resize_canvas(size[0], size[1], msg['forward']);\n",
       "        fig.send_message('refresh', {});\n",
       "    }\n",
       "};\n",
       "\n",
       "mpl.figure.prototype.handle_rubberband = function (fig, msg) {\n",
       "    var x0 = msg['x0'] / fig.ratio;\n",
       "    var y0 = (fig.canvas.height - msg['y0']) / fig.ratio;\n",
       "    var x1 = msg['x1'] / fig.ratio;\n",
       "    var y1 = (fig.canvas.height - msg['y1']) / fig.ratio;\n",
       "    x0 = Math.floor(x0) + 0.5;\n",
       "    y0 = Math.floor(y0) + 0.5;\n",
       "    x1 = Math.floor(x1) + 0.5;\n",
       "    y1 = Math.floor(y1) + 0.5;\n",
       "    var min_x = Math.min(x0, x1);\n",
       "    var min_y = Math.min(y0, y1);\n",
       "    var width = Math.abs(x1 - x0);\n",
       "    var height = Math.abs(y1 - y0);\n",
       "\n",
       "    fig.rubberband_context.clearRect(\n",
       "        0,\n",
       "        0,\n",
       "        fig.canvas.width / fig.ratio,\n",
       "        fig.canvas.height / fig.ratio\n",
       "    );\n",
       "\n",
       "    fig.rubberband_context.strokeRect(min_x, min_y, width, height);\n",
       "};\n",
       "\n",
       "mpl.figure.prototype.handle_figure_label = function (fig, msg) {\n",
       "    // Updates the figure title.\n",
       "    fig.header.textContent = msg['label'];\n",
       "};\n",
       "\n",
       "mpl.figure.prototype.handle_cursor = function (fig, msg) {\n",
       "    var cursor = msg['cursor'];\n",
       "    switch (cursor) {\n",
       "        case 0:\n",
       "            cursor = 'pointer';\n",
       "            break;\n",
       "        case 1:\n",
       "            cursor = 'default';\n",
       "            break;\n",
       "        case 2:\n",
       "            cursor = 'crosshair';\n",
       "            break;\n",
       "        case 3:\n",
       "            cursor = 'move';\n",
       "            break;\n",
       "    }\n",
       "    fig.rubberband_canvas.style.cursor = cursor;\n",
       "};\n",
       "\n",
       "mpl.figure.prototype.handle_message = function (fig, msg) {\n",
       "    fig.message.textContent = msg['message'];\n",
       "};\n",
       "\n",
       "mpl.figure.prototype.handle_draw = function (fig, _msg) {\n",
       "    // Request the server to send over a new figure.\n",
       "    fig.send_draw_message();\n",
       "};\n",
       "\n",
       "mpl.figure.prototype.handle_image_mode = function (fig, msg) {\n",
       "    fig.image_mode = msg['mode'];\n",
       "};\n",
       "\n",
       "mpl.figure.prototype.handle_history_buttons = function (fig, msg) {\n",
       "    for (var key in msg) {\n",
       "        if (!(key in fig.buttons)) {\n",
       "            continue;\n",
       "        }\n",
       "        fig.buttons[key].disabled = !msg[key];\n",
       "        fig.buttons[key].setAttribute('aria-disabled', !msg[key]);\n",
       "    }\n",
       "};\n",
       "\n",
       "mpl.figure.prototype.handle_navigate_mode = function (fig, msg) {\n",
       "    if (msg['mode'] === 'PAN') {\n",
       "        fig.buttons['Pan'].classList.add('active');\n",
       "        fig.buttons['Zoom'].classList.remove('active');\n",
       "    } else if (msg['mode'] === 'ZOOM') {\n",
       "        fig.buttons['Pan'].classList.remove('active');\n",
       "        fig.buttons['Zoom'].classList.add('active');\n",
       "    } else {\n",
       "        fig.buttons['Pan'].classList.remove('active');\n",
       "        fig.buttons['Zoom'].classList.remove('active');\n",
       "    }\n",
       "};\n",
       "\n",
       "mpl.figure.prototype.updated_canvas_event = function () {\n",
       "    // Called whenever the canvas gets updated.\n",
       "    this.send_message('ack', {});\n",
       "};\n",
       "\n",
       "// A function to construct a web socket function for onmessage handling.\n",
       "// Called in the figure constructor.\n",
       "mpl.figure.prototype._make_on_message_function = function (fig) {\n",
       "    return function socket_on_message(evt) {\n",
       "        if (evt.data instanceof Blob) {\n",
       "            /* FIXME: We get \"Resource interpreted as Image but\n",
       "             * transferred with MIME type text/plain:\" errors on\n",
       "             * Chrome.  But how to set the MIME type?  It doesn't seem\n",
       "             * to be part of the websocket stream */\n",
       "            evt.data.type = 'image/png';\n",
       "\n",
       "            /* Free the memory for the previous frames */\n",
       "            if (fig.imageObj.src) {\n",
       "                (window.URL || window.webkitURL).revokeObjectURL(\n",
       "                    fig.imageObj.src\n",
       "                );\n",
       "            }\n",
       "\n",
       "            fig.imageObj.src = (window.URL || window.webkitURL).createObjectURL(\n",
       "                evt.data\n",
       "            );\n",
       "            fig.updated_canvas_event();\n",
       "            fig.waiting = false;\n",
       "            return;\n",
       "        } else if (\n",
       "            typeof evt.data === 'string' &&\n",
       "            evt.data.slice(0, 21) === 'data:image/png;base64'\n",
       "        ) {\n",
       "            fig.imageObj.src = evt.data;\n",
       "            fig.updated_canvas_event();\n",
       "            fig.waiting = false;\n",
       "            return;\n",
       "        }\n",
       "\n",
       "        var msg = JSON.parse(evt.data);\n",
       "        var msg_type = msg['type'];\n",
       "\n",
       "        // Call the  \"handle_{type}\" callback, which takes\n",
       "        // the figure and JSON message as its only arguments.\n",
       "        try {\n",
       "            var callback = fig['handle_' + msg_type];\n",
       "        } catch (e) {\n",
       "            console.log(\n",
       "                \"No handler for the '\" + msg_type + \"' message type: \",\n",
       "                msg\n",
       "            );\n",
       "            return;\n",
       "        }\n",
       "\n",
       "        if (callback) {\n",
       "            try {\n",
       "                // console.log(\"Handling '\" + msg_type + \"' message: \", msg);\n",
       "                callback(fig, msg);\n",
       "            } catch (e) {\n",
       "                console.log(\n",
       "                    \"Exception inside the 'handler_\" + msg_type + \"' callback:\",\n",
       "                    e,\n",
       "                    e.stack,\n",
       "                    msg\n",
       "                );\n",
       "            }\n",
       "        }\n",
       "    };\n",
       "};\n",
       "\n",
       "// from http://stackoverflow.com/questions/1114465/getting-mouse-location-in-canvas\n",
       "mpl.findpos = function (e) {\n",
       "    //this section is from http://www.quirksmode.org/js/events_properties.html\n",
       "    var targ;\n",
       "    if (!e) {\n",
       "        e = window.event;\n",
       "    }\n",
       "    if (e.target) {\n",
       "        targ = e.target;\n",
       "    } else if (e.srcElement) {\n",
       "        targ = e.srcElement;\n",
       "    }\n",
       "    if (targ.nodeType === 3) {\n",
       "        // defeat Safari bug\n",
       "        targ = targ.parentNode;\n",
       "    }\n",
       "\n",
       "    // pageX,Y are the mouse positions relative to the document\n",
       "    var boundingRect = targ.getBoundingClientRect();\n",
       "    var x = e.pageX - (boundingRect.left + document.body.scrollLeft);\n",
       "    var y = e.pageY - (boundingRect.top + document.body.scrollTop);\n",
       "\n",
       "    return { x: x, y: y };\n",
       "};\n",
       "\n",
       "/*\n",
       " * return a copy of an object with only non-object keys\n",
       " * we need this to avoid circular references\n",
       " * http://stackoverflow.com/a/24161582/3208463\n",
       " */\n",
       "function simpleKeys(original) {\n",
       "    return Object.keys(original).reduce(function (obj, key) {\n",
       "        if (typeof original[key] !== 'object') {\n",
       "            obj[key] = original[key];\n",
       "        }\n",
       "        return obj;\n",
       "    }, {});\n",
       "}\n",
       "\n",
       "mpl.figure.prototype.mouse_event = function (event, name) {\n",
       "    var canvas_pos = mpl.findpos(event);\n",
       "\n",
       "    if (name === 'button_press') {\n",
       "        this.canvas.focus();\n",
       "        this.canvas_div.focus();\n",
       "    }\n",
       "\n",
       "    var x = canvas_pos.x * this.ratio;\n",
       "    var y = canvas_pos.y * this.ratio;\n",
       "\n",
       "    this.send_message(name, {\n",
       "        x: x,\n",
       "        y: y,\n",
       "        button: event.button,\n",
       "        step: event.step,\n",
       "        guiEvent: simpleKeys(event),\n",
       "    });\n",
       "\n",
       "    /* This prevents the web browser from automatically changing to\n",
       "     * the text insertion cursor when the button is pressed.  We want\n",
       "     * to control all of the cursor setting manually through the\n",
       "     * 'cursor' event from matplotlib */\n",
       "    event.preventDefault();\n",
       "    return false;\n",
       "};\n",
       "\n",
       "mpl.figure.prototype._key_event_extra = function (_event, _name) {\n",
       "    // Handle any extra behaviour associated with a key event\n",
       "};\n",
       "\n",
       "mpl.figure.prototype.key_event = function (event, name) {\n",
       "    // Prevent repeat events\n",
       "    if (name === 'key_press') {\n",
       "        if (event.which === this._key) {\n",
       "            return;\n",
       "        } else {\n",
       "            this._key = event.which;\n",
       "        }\n",
       "    }\n",
       "    if (name === 'key_release') {\n",
       "        this._key = null;\n",
       "    }\n",
       "\n",
       "    var value = '';\n",
       "    if (event.ctrlKey && event.which !== 17) {\n",
       "        value += 'ctrl+';\n",
       "    }\n",
       "    if (event.altKey && event.which !== 18) {\n",
       "        value += 'alt+';\n",
       "    }\n",
       "    if (event.shiftKey && event.which !== 16) {\n",
       "        value += 'shift+';\n",
       "    }\n",
       "\n",
       "    value += 'k';\n",
       "    value += event.which.toString();\n",
       "\n",
       "    this._key_event_extra(event, name);\n",
       "\n",
       "    this.send_message(name, { key: value, guiEvent: simpleKeys(event) });\n",
       "    return false;\n",
       "};\n",
       "\n",
       "mpl.figure.prototype.toolbar_button_onclick = function (name) {\n",
       "    if (name === 'download') {\n",
       "        this.handle_save(this, null);\n",
       "    } else {\n",
       "        this.send_message('toolbar_button', { name: name });\n",
       "    }\n",
       "};\n",
       "\n",
       "mpl.figure.prototype.toolbar_button_onmouseover = function (tooltip) {\n",
       "    this.message.textContent = tooltip;\n",
       "};\n",
       "\n",
       "///////////////// REMAINING CONTENT GENERATED BY embed_js.py /////////////////\n",
       "// prettier-ignore\n",
       "var _JSXTOOLS_RESIZE_OBSERVER=function(A){var t,i=new WeakMap,n=new WeakMap,a=new WeakMap,r=new WeakMap,o=new Set;function s(e){if(!(this instanceof s))throw new TypeError(\"Constructor requires 'new' operator\");i.set(this,e)}function h(){throw new TypeError(\"Function is not a constructor\")}function c(e,t,i,n){e=0 in arguments?Number(arguments[0]):0,t=1 in arguments?Number(arguments[1]):0,i=2 in arguments?Number(arguments[2]):0,n=3 in arguments?Number(arguments[3]):0,this.right=(this.x=this.left=e)+(this.width=i),this.bottom=(this.y=this.top=t)+(this.height=n),Object.freeze(this)}function d(){t=requestAnimationFrame(d);var s=new WeakMap,p=new Set;o.forEach((function(t){r.get(t).forEach((function(i){var r=t instanceof window.SVGElement,o=a.get(t),d=r?0:parseFloat(o.paddingTop),f=r?0:parseFloat(o.paddingRight),l=r?0:parseFloat(o.paddingBottom),u=r?0:parseFloat(o.paddingLeft),g=r?0:parseFloat(o.borderTopWidth),m=r?0:parseFloat(o.borderRightWidth),w=r?0:parseFloat(o.borderBottomWidth),b=u+f,F=d+l,v=(r?0:parseFloat(o.borderLeftWidth))+m,W=g+w,y=r?0:t.offsetHeight-W-t.clientHeight,E=r?0:t.offsetWidth-v-t.clientWidth,R=b+v,z=F+W,M=r?t.width:parseFloat(o.width)-R-E,O=r?t.height:parseFloat(o.height)-z-y;if(n.has(t)){var k=n.get(t);if(k[0]===M&&k[1]===O)return}n.set(t,[M,O]);var S=Object.create(h.prototype);S.target=t,S.contentRect=new c(u,d,M,O),s.has(i)||(s.set(i,[]),p.add(i)),s.get(i).push(S)}))})),p.forEach((function(e){i.get(e).call(e,s.get(e),e)}))}return s.prototype.observe=function(i){if(i instanceof window.Element){r.has(i)||(r.set(i,new Set),o.add(i),a.set(i,window.getComputedStyle(i)));var n=r.get(i);n.has(this)||n.add(this),cancelAnimationFrame(t),t=requestAnimationFrame(d)}},s.prototype.unobserve=function(i){if(i instanceof window.Element&&r.has(i)){var n=r.get(i);n.has(this)&&(n.delete(this),n.size||(r.delete(i),o.delete(i))),n.size||r.delete(i),o.size||cancelAnimationFrame(t)}},A.DOMRectReadOnly=c,A.ResizeObserver=s,A.ResizeObserverEntry=h,A}; // eslint-disable-line\n",
       "mpl.toolbar_items = [[\"Home\", \"Reset original view\", \"fa fa-home icon-home\", \"home\"], [\"Back\", \"Back to previous view\", \"fa fa-arrow-left icon-arrow-left\", \"back\"], [\"Forward\", \"Forward to next view\", \"fa fa-arrow-right icon-arrow-right\", \"forward\"], [\"\", \"\", \"\", \"\"], [\"Pan\", \"Left button pans, Right button zooms\\nx/y fixes axis, CTRL fixes aspect\", \"fa fa-arrows icon-move\", \"pan\"], [\"Zoom\", \"Zoom to rectangle\\nx/y fixes axis, CTRL fixes aspect\", \"fa fa-square-o icon-check-empty\", \"zoom\"], [\"\", \"\", \"\", \"\"], [\"Download\", \"Download plot\", \"fa fa-floppy-o icon-save\", \"download\"]];\n",
       "\n",
       "mpl.extensions = [\"eps\", \"jpeg\", \"pdf\", \"png\", \"ps\", \"raw\", \"svg\", \"tif\"];\n",
       "\n",
       "mpl.default_extension = \"png\";/* global mpl */\n",
       "\n",
       "var comm_websocket_adapter = function (comm) {\n",
       "    // Create a \"websocket\"-like object which calls the given IPython comm\n",
       "    // object with the appropriate methods. Currently this is a non binary\n",
       "    // socket, so there is still some room for performance tuning.\n",
       "    var ws = {};\n",
       "\n",
       "    ws.close = function () {\n",
       "        comm.close();\n",
       "    };\n",
       "    ws.send = function (m) {\n",
       "        //console.log('sending', m);\n",
       "        comm.send(m);\n",
       "    };\n",
       "    // Register the callback with on_msg.\n",
       "    comm.on_msg(function (msg) {\n",
       "        //console.log('receiving', msg['content']['data'], msg);\n",
       "        // Pass the mpl event to the overridden (by mpl) onmessage function.\n",
       "        ws.onmessage(msg['content']['data']);\n",
       "    });\n",
       "    return ws;\n",
       "};\n",
       "\n",
       "mpl.mpl_figure_comm = function (comm, msg) {\n",
       "    // This is the function which gets called when the mpl process\n",
       "    // starts-up an IPython Comm through the \"matplotlib\" channel.\n",
       "\n",
       "    var id = msg.content.data.id;\n",
       "    // Get hold of the div created by the display call when the Comm\n",
       "    // socket was opened in Python.\n",
       "    var element = document.getElementById(id);\n",
       "    var ws_proxy = comm_websocket_adapter(comm);\n",
       "\n",
       "    function ondownload(figure, _format) {\n",
       "        window.open(figure.canvas.toDataURL());\n",
       "    }\n",
       "\n",
       "    var fig = new mpl.figure(id, ws_proxy, ondownload, element);\n",
       "\n",
       "    // Call onopen now - mpl needs it, as it is assuming we've passed it a real\n",
       "    // web socket which is closed, not our websocket->open comm proxy.\n",
       "    ws_proxy.onopen();\n",
       "\n",
       "    fig.parent_element = element;\n",
       "    fig.cell_info = mpl.find_output_cell(\"<div id='\" + id + \"'></div>\");\n",
       "    if (!fig.cell_info) {\n",
       "        console.error('Failed to find cell for figure', id, fig);\n",
       "        return;\n",
       "    }\n",
       "    fig.cell_info[0].output_area.element.on(\n",
       "        'cleared',\n",
       "        { fig: fig },\n",
       "        fig._remove_fig_handler\n",
       "    );\n",
       "};\n",
       "\n",
       "mpl.figure.prototype.handle_close = function (fig, msg) {\n",
       "    var width = fig.canvas.width / fig.ratio;\n",
       "    fig.cell_info[0].output_area.element.off(\n",
       "        'cleared',\n",
       "        fig._remove_fig_handler\n",
       "    );\n",
       "    fig.resizeObserverInstance.unobserve(fig.canvas_div);\n",
       "\n",
       "    // Update the output cell to use the data from the current canvas.\n",
       "    fig.push_to_output();\n",
       "    var dataURL = fig.canvas.toDataURL();\n",
       "    // Re-enable the keyboard manager in IPython - without this line, in FF,\n",
       "    // the notebook keyboard shortcuts fail.\n",
       "    IPython.keyboard_manager.enable();\n",
       "    fig.parent_element.innerHTML =\n",
       "        '<img src=\"' + dataURL + '\" width=\"' + width + '\">';\n",
       "    fig.close_ws(fig, msg);\n",
       "};\n",
       "\n",
       "mpl.figure.prototype.close_ws = function (fig, msg) {\n",
       "    fig.send_message('closing', msg);\n",
       "    // fig.ws.close()\n",
       "};\n",
       "\n",
       "mpl.figure.prototype.push_to_output = function (_remove_interactive) {\n",
       "    // Turn the data on the canvas into data in the output cell.\n",
       "    var width = this.canvas.width / this.ratio;\n",
       "    var dataURL = this.canvas.toDataURL();\n",
       "    this.cell_info[1]['text/html'] =\n",
       "        '<img src=\"' + dataURL + '\" width=\"' + width + '\">';\n",
       "};\n",
       "\n",
       "mpl.figure.prototype.updated_canvas_event = function () {\n",
       "    // Tell IPython that the notebook contents must change.\n",
       "    IPython.notebook.set_dirty(true);\n",
       "    this.send_message('ack', {});\n",
       "    var fig = this;\n",
       "    // Wait a second, then push the new image to the DOM so\n",
       "    // that it is saved nicely (might be nice to debounce this).\n",
       "    setTimeout(function () {\n",
       "        fig.push_to_output();\n",
       "    }, 1000);\n",
       "};\n",
       "\n",
       "mpl.figure.prototype._init_toolbar = function () {\n",
       "    var fig = this;\n",
       "\n",
       "    var toolbar = document.createElement('div');\n",
       "    toolbar.classList = 'btn-toolbar';\n",
       "    this.root.appendChild(toolbar);\n",
       "\n",
       "    function on_click_closure(name) {\n",
       "        return function (_event) {\n",
       "            return fig.toolbar_button_onclick(name);\n",
       "        };\n",
       "    }\n",
       "\n",
       "    function on_mouseover_closure(tooltip) {\n",
       "        return function (event) {\n",
       "            if (!event.currentTarget.disabled) {\n",
       "                return fig.toolbar_button_onmouseover(tooltip);\n",
       "            }\n",
       "        };\n",
       "    }\n",
       "\n",
       "    fig.buttons = {};\n",
       "    var buttonGroup = document.createElement('div');\n",
       "    buttonGroup.classList = 'btn-group';\n",
       "    var button;\n",
       "    for (var toolbar_ind in mpl.toolbar_items) {\n",
       "        var name = mpl.toolbar_items[toolbar_ind][0];\n",
       "        var tooltip = mpl.toolbar_items[toolbar_ind][1];\n",
       "        var image = mpl.toolbar_items[toolbar_ind][2];\n",
       "        var method_name = mpl.toolbar_items[toolbar_ind][3];\n",
       "\n",
       "        if (!name) {\n",
       "            /* Instead of a spacer, we start a new button group. */\n",
       "            if (buttonGroup.hasChildNodes()) {\n",
       "                toolbar.appendChild(buttonGroup);\n",
       "            }\n",
       "            buttonGroup = document.createElement('div');\n",
       "            buttonGroup.classList = 'btn-group';\n",
       "            continue;\n",
       "        }\n",
       "\n",
       "        button = fig.buttons[name] = document.createElement('button');\n",
       "        button.classList = 'btn btn-default';\n",
       "        button.href = '#';\n",
       "        button.title = name;\n",
       "        button.innerHTML = '<i class=\"fa ' + image + ' fa-lg\"></i>';\n",
       "        button.addEventListener('click', on_click_closure(method_name));\n",
       "        button.addEventListener('mouseover', on_mouseover_closure(tooltip));\n",
       "        buttonGroup.appendChild(button);\n",
       "    }\n",
       "\n",
       "    if (buttonGroup.hasChildNodes()) {\n",
       "        toolbar.appendChild(buttonGroup);\n",
       "    }\n",
       "\n",
       "    // Add the status bar.\n",
       "    var status_bar = document.createElement('span');\n",
       "    status_bar.classList = 'mpl-message pull-right';\n",
       "    toolbar.appendChild(status_bar);\n",
       "    this.message = status_bar;\n",
       "\n",
       "    // Add the close button to the window.\n",
       "    var buttongrp = document.createElement('div');\n",
       "    buttongrp.classList = 'btn-group inline pull-right';\n",
       "    button = document.createElement('button');\n",
       "    button.classList = 'btn btn-mini btn-primary';\n",
       "    button.href = '#';\n",
       "    button.title = 'Stop Interaction';\n",
       "    button.innerHTML = '<i class=\"fa fa-power-off icon-remove icon-large\"></i>';\n",
       "    button.addEventListener('click', function (_evt) {\n",
       "        fig.handle_close(fig, {});\n",
       "    });\n",
       "    button.addEventListener(\n",
       "        'mouseover',\n",
       "        on_mouseover_closure('Stop Interaction')\n",
       "    );\n",
       "    buttongrp.appendChild(button);\n",
       "    var titlebar = this.root.querySelector('.ui-dialog-titlebar');\n",
       "    titlebar.insertBefore(buttongrp, titlebar.firstChild);\n",
       "};\n",
       "\n",
       "mpl.figure.prototype._remove_fig_handler = function (event) {\n",
       "    var fig = event.data.fig;\n",
       "    if (event.target !== this) {\n",
       "        // Ignore bubbled events from children.\n",
       "        return;\n",
       "    }\n",
       "    fig.close_ws(fig, {});\n",
       "};\n",
       "\n",
       "mpl.figure.prototype._root_extra_style = function (el) {\n",
       "    el.style.boxSizing = 'content-box'; // override notebook setting of border-box.\n",
       "};\n",
       "\n",
       "mpl.figure.prototype._canvas_extra_style = function (el) {\n",
       "    // this is important to make the div 'focusable\n",
       "    el.setAttribute('tabindex', 0);\n",
       "    // reach out to IPython and tell the keyboard manager to turn it's self\n",
       "    // off when our div gets focus\n",
       "\n",
       "    // location in version 3\n",
       "    if (IPython.notebook.keyboard_manager) {\n",
       "        IPython.notebook.keyboard_manager.register_events(el);\n",
       "    } else {\n",
       "        // location in version 2\n",
       "        IPython.keyboard_manager.register_events(el);\n",
       "    }\n",
       "};\n",
       "\n",
       "mpl.figure.prototype._key_event_extra = function (event, _name) {\n",
       "    var manager = IPython.notebook.keyboard_manager;\n",
       "    if (!manager) {\n",
       "        manager = IPython.keyboard_manager;\n",
       "    }\n",
       "\n",
       "    // Check for shift+enter\n",
       "    if (event.shiftKey && event.which === 13) {\n",
       "        this.canvas_div.blur();\n",
       "        // select the cell after this one\n",
       "        var index = IPython.notebook.find_cell_index(this.cell_info[0]);\n",
       "        IPython.notebook.select(index + 1);\n",
       "    }\n",
       "};\n",
       "\n",
       "mpl.figure.prototype.handle_save = function (fig, _msg) {\n",
       "    fig.ondownload(fig, null);\n",
       "};\n",
       "\n",
       "mpl.find_output_cell = function (html_output) {\n",
       "    // Return the cell and output element which can be found *uniquely* in the notebook.\n",
       "    // Note - this is a bit hacky, but it is done because the \"notebook_saving.Notebook\"\n",
       "    // IPython event is triggered only after the cells have been serialised, which for\n",
       "    // our purposes (turning an active figure into a static one), is too late.\n",
       "    var cells = IPython.notebook.get_cells();\n",
       "    var ncells = cells.length;\n",
       "    for (var i = 0; i < ncells; i++) {\n",
       "        var cell = cells[i];\n",
       "        if (cell.cell_type === 'code') {\n",
       "            for (var j = 0; j < cell.output_area.outputs.length; j++) {\n",
       "                var data = cell.output_area.outputs[j];\n",
       "                if (data.data) {\n",
       "                    // IPython >= 3 moved mimebundle to data attribute of output\n",
       "                    data = data.data;\n",
       "                }\n",
       "                if (data['text/html'] === html_output) {\n",
       "                    return [cell, data, j];\n",
       "                }\n",
       "            }\n",
       "        }\n",
       "    }\n",
       "};\n",
       "\n",
       "// Register the function which deals with the matplotlib target/channel.\n",
       "// The kernel may be null if the page has been refreshed.\n",
       "if (IPython.notebook.kernel !== null) {\n",
       "    IPython.notebook.kernel.comm_manager.register_target(\n",
       "        'matplotlib',\n",
       "        mpl.mpl_figure_comm\n",
       "    );\n",
       "}\n"
      ],
      "text/plain": [
       "<IPython.core.display.Javascript object>"
      ]
     },
     "metadata": {},
     "output_type": "display_data"
    },
    {
     "data": {
      "text/html": [
       "<img src=\"data:image/png;base64,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\" width=\"640\">"
      ],
      "text/plain": [
       "<IPython.core.display.HTML object>"
      ]
     },
     "metadata": {},
     "output_type": "display_data"
    },
    {
     "name": "stdout",
     "output_type": "stream",
     "text": [
      "[array(2), array(1.9208), array(1.84473632), array(1.77168476), array(1.70152605), array(1.63414561), array(1.56943345), array(1.50728388), array(1.44759544), array(1.39027066), array(1.33521594), array(1.28234139), array(1.23156067), array(1.18279087), array(1.13595235), array(1.09096864), array(1.04776628), array(1.00627474), array(0.96642626), array(0.92815578), array(0.89140081), array(0.85610134), array(0.82219972), array(0.78964061), array(0.75837085), array(0.72833936), array(0.69949712), array(0.67179704), array(0.64519387), array(0.6196442), array(0.59510629), array(0.57154008), array(0.54890709), array(0.52717037), array(0.50629442), array(0.48624516), array(0.46698985), array(0.44849706), array(0.43073657), array(0.4136794), array(0.3972977), array(0.38156471), array(0.36645475), array(0.35194314), array(0.33800619), array(0.32462115), array(0.31176615), array(0.29942021), array(0.28756317), array(0.27617567), array(0.26523911), array(0.25473564), array(0.24464811), array(0.23496005), array(0.22565563), array(0.21671967), array(0.20813757), array(0.19989532), array(0.19197946), array(0.18437708), array(0.17707575), array(0.17006355), array(0.16332903), array(0.1568612), array(0.1506495), array(0.14468378), array(0.1389543), array(0.13345171), array(0.12816702), array(0.12309161), array(0.11821718), array(0.11353578), array(0.10903976), array(0.10472179), array(0.1005748), array(0.09659204), array(0.092767), array(0.08909342), array(0.08556532), array(0.08217694), array(0.07892273), array(0.07579739), array(0.07279581), array(0.0699131), array(0.06714454), array(0.06448562), array(0.06193199), array(0.05947948), array(0.05712409), array(0.05486198), array(0.05268944), array(0.05060294), array(0.04859907), array(0.04667454), array(0.04482623), array(0.04305111), array(0.04134629), array(0.03970898), array(0.0381365), array(0.03662629), array(0.03517589), array(0.03378293), array(0.03244512), array(0.0311603), array(0.02992635), array(0.02874127), array(0.02760311), array(0.02651003), array(0.02546023), array(0.02445201), array(0.02348371), array(0.02255375), array(0.02166062), array(0.02080286), array(0.01997907), array(0.0191879), array(0.01842806), array(0.01769831), array(0.01699745), array(0.01632435), array(0.01567791), array(0.01505706), array(0.0144608), array(0.01388816), array(0.01333819), array(0.01280999), array(0.01230272), array(0.01181553), array(0.01134764), array(0.01089827), array(0.0104667), array(0.01005222), array(0.00965415), array(0.00927184), array(0.00890468), array(0.00855205), array(0.00821339), array(0.00788814), array(0.00757577), array(0.00727577), array(0.00698765), array(0.00671094), array(0.00644519), array(0.00618996), array(0.00594483), array(0.00570942), array(0.00548333), array(0.00526619), array(0.00505765), array(0.00485736), array(0.00466501), array(0.00448028), array(0.00430286), array(0.00413246), array(0.00396882), array(0.00381165), array(0.00366071), array(0.00351575), array(0.00337652), array(0.00324281), array(0.0031144), array(0.00299107), array(0.00287262), array(0.00275887), array(0.00264962), array(0.00254469), array(0.00244392), array(0.00234714), array(0.00225419), array(0.00216493), array(0.0020792), array(0.00199686), array(0.00191779), array(0.00184184), array(0.0017689), array(0.00169886), array(0.00163158), array(0.00156697), array(0.00150492), array(0.00144532), array(0.00138809), array(0.00133312), array(0.00128033), array(0.00122963), array(0.00118093), array(0.00113417), array(0.00108926), array(0.00104612), array(0.0010047), array(0.00096491), array(0.0009267), array(0.00089), array(0.00085476), array(0.00082091), array(0.0007884), array(0.00075718), array(0.0007272), array(0.0006984), array(0.00067074), array(0.00064418), array(0.00061867), array(0.00059417), array(0.00057064), array(0.00054805), array(0.00052634), array(0.0005055), array(0.00048548), array(0.00046626), array(0.00044779), array(0.00043006), array(0.00041303), array(0.00039667), array(0.00038097), array(0.00036588), array(0.00035139), array(0.00033748), array(0.00032411), array(0.00031128), array(0.00029895), array(0.00028711), array(0.00027574), array(0.00026482), array(0.00025434), array(0.00024426), array(0.00023459), array(0.0002253), array(0.00021638), array(0.00020781), array(0.00019958), array(0.00019168), array(0.00018409), array(0.0001768), array(0.0001698), array(0.00016307), array(0.00015662), array(0.00015041), array(0.00014446), array(0.00013874), array(0.00013324), array(0.00012797), array(0.0001229), array(0.00011803), array(0.00011336), array(0.00010887), array(0.00010456), array(0.00010042), array(9.64404518e-05), array(9.26214099e-05), array(8.89536021e-05), array(8.54310395e-05), array(8.20479703e-05), array(7.87988707e-05), array(7.56784354e-05), array(7.26815693e-05), array(6.98033792e-05), array(6.70391654e-05), array(6.43844144e-05), array(6.18347916e-05), array(5.93861339e-05), array(5.7034443e-05), array(5.4775879e-05), array(5.26067542e-05), array(5.05235268e-05), array(4.85227951e-05), array(4.66012924e-05), array(4.47558812e-05), array(4.29835483e-05), array(4.12813998e-05), array(3.96466564e-05), array(3.80766488e-05), array(3.65688135e-05), array(3.51206885e-05), array(3.37299092e-05), array(3.23942048e-05), array(3.11113943e-05), array(2.98793831e-05), array(2.86961595e-05), array(2.75597916e-05), array(2.64684239e-05), array(2.54202743e-05), array(2.44136314e-05), array(2.34468516e-05), array(2.25183563e-05), array(2.16266294e-05), array(2.07702149e-05), array(1.99477143e-05), array(1.91577849e-05), array(1.83991366e-05), array(1.76705308e-05), array(1.69707777e-05), array(1.62987349e-05), array(1.5653305e-05), array(1.50334342e-05), array(1.44381102e-05), array(1.3866361e-05), array(1.33172531e-05), array(1.27898899e-05), array(1.22834103e-05), array(1.17969872e-05), array(1.13298265e-05), array(1.08811654e-05), array(1.04502712e-05), array(1.00364405e-05), array(9.63899745e-06), array(9.25729315e-06), array(8.89070434e-06), array(8.53863245e-06), array(8.2005026e-06), array(7.8757627e-06), array(7.5638825e-06), array(7.26435275e-06), array(6.97668438e-06), array(6.70040768e-06), array(6.43507154e-06), array(6.1802427e-06), array(5.93550509e-06), array(5.70045909e-06), array(5.47472091e-06), array(5.25792196e-06), array(5.04970825e-06), array(4.84973981e-06), array(4.65769011e-06), array(4.47324558e-06), array(4.29610506e-06), array(4.1259793e-06), array(3.96259052e-06), array(3.80567193e-06), array(3.65496732e-06), array(3.51023062e-06), array(3.37122548e-06), array(3.23772496e-06), array(3.10951105e-06), array(2.98637441e-06), array(2.86811398e-06), array(2.75453667e-06), array(2.64545702e-06), array(2.54069692e-06), array(2.44008532e-06), array(2.34345794e-06), array(2.25065701e-06), array(2.16153099e-06), array(2.07593436e-06), array(1.99372736e-06), array(1.91477576e-06), array(1.83895064e-06), array(1.76612819e-06), array(1.69618952e-06), array(1.62902041e-06), array(1.5645112e-06), array(1.50255656e-06), array(1.44305532e-06), array(1.38591033e-06), array(1.33102828e-06), array(1.27831956e-06), array(1.22769811e-06), array(1.17908126e-06), array(1.13238964e-06), array(1.08754701e-06), array(1.04448015e-06), array(1.00311874e-06), array(9.63395236e-07), array(9.25244784e-07), array(8.88605091e-07), array(8.53416329e-07), array(8.19621043e-07), array(7.87164049e-07), array(7.55992353e-07), array(7.26055056e-07), array(6.97303276e-07), array(6.69690066e-07), array(6.43170339e-07), array(6.17700794e-07), array(5.93239842e-07), array(5.69747545e-07), array(5.47185542e-07), array(5.25516994e-07), array(5.04706521e-07), array(4.84720143e-07), array(4.65525226e-07), array(4.47090427e-07), array(4.29385646e-07), array(4.12381974e-07), array(3.96051648e-07), array(3.80368003e-07), array(3.6530543e-07), array(3.50839335e-07), array(3.36946097e-07), array(3.23603032e-07), array(3.10788352e-07), array(2.98481133e-07), array(2.8666128e-07), array(2.75309493e-07), array(2.64407237e-07), array(2.53936711e-07), array(2.43880817e-07), array(2.34223137e-07), array(2.249479e-07), array(2.16039964e-07), array(2.07484781e-07), array(1.99268384e-07), array(1.91377356e-07), array(1.83798812e-07), array(1.76520379e-07), array(1.69530172e-07), array(1.62816778e-07), array(1.56369233e-07), array(1.50177012e-07), array(1.44230002e-07), array(1.38518494e-07), array(1.33033162e-07), array(1.27765048e-07), array(1.22705552e-07), array(1.17846413e-07), array(1.13179695e-07), array(1.08697779e-07), array(1.04393347e-07), array(1.0025937e-07), array(9.62890991e-08), array(9.24760507e-08), array(8.88139991e-08), array(8.52969648e-08), array(8.1919205e-08), array(7.86752044e-08), array(7.55596663e-08), array(7.25675036e-08), array(6.96938304e-08), array(6.69339547e-08), array(6.42833701e-08), array(6.17377487e-08), array(5.92929338e-08), array(5.69449336e-08), array(5.46899143e-08), array(5.25241937e-08), array(5.04442356e-08), array(4.84466439e-08), array(4.65281568e-08), array(4.46856418e-08), array(4.29160903e-08), array(4.12166132e-08), array(3.95844353e-08), array(3.80168917e-08), array(3.65114227e-08), array(3.50655704e-08), array(3.36769738e-08), array(3.23433657e-08), array(3.10625684e-08), array(2.98324907e-08), array(2.8651124e-08), array(2.75165395e-08), array(2.64268846e-08), array(2.53803799e-08), array(2.43753169e-08), array(2.34100543e-08), array(2.24830162e-08), array(2.15926887e-08), array(2.07376183e-08), array(1.99164086e-08), array(1.91277188e-08), array(1.83702611e-08), array(1.76427988e-08), array(1.6944144e-08), array(1.62731559e-08), array(1.56287389e-08), array(1.50098408e-08), array(1.44154511e-08), array(1.38445993e-08), array(1.32963531e-08), array(1.27698176e-08), array(1.22641328e-08), array(1.17784731e-08), array(1.13120456e-08), array(1.08640886e-08), array(1.04338707e-08), array(1.00206894e-08), array(9.62387009e-09), array(9.24276484e-09), array(8.87675135e-09), array(8.525232e-09), array(8.18763281e-09), array(7.86340255e-09), array(7.55201181e-09), array(7.25295214e-09), array(6.96573524e-09), array(6.68989212e-09), array(6.42497239e-09), array(6.17054349e-09), array(5.92618997e-09), array(5.69151284e-09), array(5.46612893e-09), array(5.24967023e-09), array(5.04178329e-09), array(4.84212867e-09), array(4.65038037e-09), array(4.46622531e-09), array(4.28936279e-09), array(4.11950402e-09), array(3.95637166e-09), array(3.79969935e-09), array(3.64923125e-09), array(3.50472169e-09), array(3.36593471e-09), array(3.2326437e-09), array(3.10463101e-09), array(2.98168762e-09), array(2.86361279e-09), array(2.75021372e-09), array(2.64130526e-09), array(2.53670957e-09), array(2.43625587e-09), array(2.33978014e-09), array(2.24712485e-09), array(2.1581387e-09), array(2.07267641e-09), array(1.99059843e-09), array(1.91177073e-09), array(1.83606461e-09), array(1.76335645e-09), array(1.69352753e-09), array(1.62646384e-09), array(1.56205587e-09), array(1.50019846e-09), array(1.4407906e-09), array(1.38373529e-09), array(1.32893938e-09), array(1.27631338e-09), array(1.22577137e-09), array(1.17723082e-09), array(1.13061248e-09), array(1.08584023e-09), array(1.04284095e-09), array(1.00154445e-09), array(9.61883292e-10), array(9.23792714e-10), array(8.87210522e-10), array(8.52076986e-10), array(8.18334737e-10), array(7.85928681e-10), array(7.54805906e-10), array(7.24915592e-10), array(6.96208934e-10), array(6.6863906e-10), array(6.42160954e-10), array(6.1673138e-10), array(5.92308817e-10), array(5.68853388e-10), array(5.46326794e-10), array(5.24692253e-10), array(5.0391444e-10), array(4.83959428e-10), array(4.64794635e-10), array(4.46388767e-10), array(4.28711772e-10), array(4.11734786e-10), array(3.95430088e-10), array(3.79771057e-10), array(3.64732123e-10), array(3.50288731e-10), array(3.36417297e-10), array(3.23095172e-10), array(3.10300603e-10), array(2.98012699e-10), array(2.86211396e-10), array(2.74877425e-10), array(2.63992279e-10), array(2.53538185e-10), array(2.43498073e-10), array(2.33855549e-10), array(2.24594869e-10), array(2.15700912e-10), array(2.07159156e-10), array(1.98955654e-10), array(1.9107701e-10), array(1.8351036e-10), array(1.7624335e-10), array(1.69264113e-10), array(1.62561254e-10), array(1.56123829e-10), array(1.49941325e-10), array(1.44003649e-10), array(1.38301104e-10), array(1.3282438e-10), array(1.27564535e-10), array(1.22512979e-10), array(1.17661465e-10), array(1.13002071e-10), array(1.08527189e-10), array(1.04229513e-10), array(1.00102024e-10), array(9.61379838e-11), array(9.23309197e-11), array(8.86746153e-11), array(8.51631005e-11), array(8.17906417e-11), array(7.85517323e-11), array(7.54410837e-11), array(7.24536168e-11), array(6.95844536e-11), array(6.68289092e-11), array(6.41824844e-11), array(6.1640858e-11), array(5.919988e-11), array(5.68555648e-11), array(5.46040844e-11), array(5.24417627e-11), array(5.03650689e-11), array(4.83706121e-11), array(4.64551359e-11), array(4.46155125e-11), array(4.28487382e-11), array(4.11519282e-11), array(3.95223118e-11), array(3.79572283e-11), array(3.6454122e-11), array(3.50105388e-11), array(3.36241215e-11), array(3.22926063e-11), array(3.10138191e-11), array(2.97856718e-11), array(2.86061592e-11), array(2.74733553e-11), array(2.63854104e-11), array(2.53405482e-11), array(2.43370625e-11), array(2.33733148e-11), array(2.24477315e-11), array(2.15588014e-11), array(2.07050728e-11), array(1.9885152e-11), array(1.90976999e-11), array(1.8341431e-11), array(1.76151104e-11), array(1.6917552e-11), array(1.62476169e-11), array(1.56042113e-11), array(1.49862845e-11), array(1.43928277e-11), array(1.38228717e-11), array(1.3275486e-11), array(1.27497767e-11), array(1.22448856e-11), array(1.17599881e-11), array(1.12942926e-11), array(1.08470386e-11), array(1.04174959e-11), array(1.0004963e-11), array(9.60876648e-12), array(9.22825933e-12), array(8.86282026e-12), array(8.51185258e-12), array(8.17478321e-12), array(7.8510618e-12), array(7.54015975e-12), array(7.24156943e-12), array(6.95480328e-12), array(6.67939307e-12), array(6.4148891e-12), array(6.16085949e-12), array(5.91688946e-12), array(5.68258063e-12), array(5.45755044e-12), array(5.24143144e-12), array(5.03387076e-12), array(4.83452948e-12), array(4.64308211e-12), array(4.45921606e-12), array(4.2826311e-12), array(4.11303891e-12), array(3.95016257e-12), array(3.79373613e-12), array(3.64350418e-12), array(3.49922142e-12), array(3.36065225e-12), array(3.22757042e-12), array(3.09975863e-12), array(2.97700819e-12), array(2.85911866e-12), array(2.74589756e-12), array(2.63716002e-12), array(2.53272848e-12), array(2.43243244e-12), array(2.33610811e-12), array(2.24359823e-12), array(2.15475174e-12), array(2.06942357e-12), array(1.9874744e-12), array(1.90877041e-12), array(1.8331831e-12), array(1.76058905e-12), array(1.69086973e-12), array(1.62391129e-12), array(1.5596044e-12), array(1.49784406e-12), array(1.43852944e-12), array(1.38156367e-12), array(1.32685375e-12), array(1.27431034e-12), array(1.22384765e-12), array(1.17538329e-12), array(1.12883811e-12), array(1.08413612e-12), array(1.04120433e-12), array(9.99972638e-13), array(9.60373721e-13), array(9.22342922e-13), array(8.85818142e-13), array(8.50739744e-13), array(8.1705045e-13), array(7.84695252e-13), array(7.5362132e-13), array(7.23777916e-13), array(6.9511631e-13), array(6.67589704e-13), array(6.41153152e-13), array(6.15763487e-13), array(5.91379253e-13), array(5.67960635e-13), array(5.45469394e-13), array(5.23868806e-13), array(5.03123601e-13), array(4.83199906e-13), array(4.6406519e-13), array(4.45688209e-13), array(4.28038956e-13), array(4.11088613e-13), array(3.94809504e-13), array(3.79175047e-13), array(3.64159716e-13), array(3.49738991e-13), array(3.35889327e-13), array(3.22588109e-13), array(3.0981362e-13), array(2.97545001e-13), array(2.85762219e-13), array(2.74446035e-13), array(2.63577972e-13), array(2.53140284e-13), array(2.43115929e-13)]\n"
     ]
    }
   ],
   "source": [
    "ax = plt.figure().add_subplot(projection='3d')\n",
    "print(z)\n",
    "ax.plot(x, y, z, linewidth=2, antialiased=True)\n",
    "\n",
    "plt.show()"
   ]
  },
  {
   "cell_type": "code",
   "execution_count": 125,
   "id": "valid-encounter",
   "metadata": {},
   "outputs": [
    {
     "data": {
      "image/png": "[encoded data removed]",
      "text/plain": [
       "<Figure size 432x288 with 1 Axes>"
      ]
     },
     "metadata": {
      "needs_background": "light"
     },
     "output_type": "display_data"
    }
   ],
   "source": [
    "ax = plt.figure().add_subplot(projection='3d')\n",
    "x_i=np.linspace(-20,20,100)\n",
    "y_i=np.linspace(-20,20,100)\n",
    "for i in x_i:\n",
    "    for j in y_i:\n",
    "        x,y,z=grad(test_case[0],test_case[1],np.array([i,j]))\n",
    "        ax.plot(x, y,z, linewidth=2, antialiased=True)\n",
    "plt.show()"
   ]
  },
  {
   "cell_type": "code",
   "execution_count": 124,
   "id": "desirable-completion",
   "metadata": {
    "scrolled": true
   },
   "outputs": [
    {
     "name": "stdout",
     "output_type": "stream",
     "text": [
      "[[800.0, 641.9753086419753, 523.4567901234568, 444.44444444444446, 404.9382716049383, 404.9382716049383, 444.44444444444446, 523.4567901234568, 641.9753086419753, 800.0], [641.9753086419753, 483.9506172839506, 365.4320987654321, 286.41975308641975, 246.91358024691357, 246.91358024691357, 286.41975308641975, 365.43209876543216, 483.95061728395063, 641.9753086419753], [523.4567901234568, 365.4320987654321, 246.91358024691357, 167.9012345679012, 128.39506172839506, 128.39506172839506, 167.90123456790124, 246.91358024691363, 365.4320987654321, 523.4567901234568], [444.44444444444446, 286.41975308641975, 167.9012345679012, 88.88888888888887, 49.3827160493827, 49.3827160493827, 88.88888888888889, 167.9012345679013, 286.4197530864198, 444.44444444444446], [404.9382716049383, 246.91358024691357, 128.39506172839506, 49.3827160493827, 9.876543209876536, 9.876543209876536, 49.38271604938272, 128.39506172839512, 246.91358024691363, 404.9382716049383], [404.9382716049383, 246.91358024691357, 128.39506172839506, 49.3827160493827, 9.876543209876536, 9.876543209876536, 49.38271604938272, 128.39506172839512, 246.91358024691363, 404.9382716049383], [444.44444444444446, 286.41975308641975, 167.90123456790124, 88.88888888888889, 49.38271604938272, 49.38271604938272, 88.88888888888891, 167.90123456790133, 286.4197530864198, 444.44444444444446], [523.4567901234568, 365.43209876543216, 246.91358024691363, 167.9012345679013, 128.39506172839512, 128.39506172839512, 167.90123456790133, 246.9135802469137, 365.4320987654322, 523.4567901234568], [641.9753086419753, 483.95061728395063, 365.4320987654321, 286.4197530864198, 246.91358024691363, 246.91358024691363, 286.4197530864198, 365.4320987654322, 483.9506172839507, 641.9753086419753], [800.0, 641.9753086419753, 523.4567901234568, 444.44444444444446, 404.9382716049383, 404.9382716049383, 444.44444444444446, 523.4567901234568, 641.9753086419753, 800.0]]\n"
     ]
    },
    {
     "data": {
      "application/vnd.plotly.v1+json": {
       "config": {
        "plotlyServerURL": "https://plot.ly"
       },
       "data": [
        {
         "contours": {
          "x": {
           "color": "white",
           "end": 2,
           "show": true,
           "size": 0.04,
           "start": 1.5
          },
          "z": {
           "end": 0.8,
           "show": true,
           "size": 0.05,
           "start": 0.5
          }
         },
         "type": "surface",
         "x": [
          -20,
          -15.555555555555555,
          -11.11111111111111,
          -6.666666666666666,
          -2.2222222222222214,
          2.2222222222222214,
          6.666666666666668,
          11.111111111111114,
          15.555555555555557,
          20
         ],
         "y": [
          -20,
          -15.555555555555555,
          -11.11111111111111,
          -6.666666666666666,
          -2.2222222222222214,
          2.2222222222222214,
          6.666666666666668,
          11.111111111111114,
          15.555555555555557,
          20
         ],
         "z": [
          800,
          641.9753086419753,
          523.4567901234568,
          444.44444444444446,
          404.9382716049383,
          404.9382716049383,
          444.44444444444446,
          523.4567901234568,
          641.9753086419753,
          800
         ]
        }
       ],
       "layout": {
        "scene": {
         "aspectratio": {
          "x": 1,
          "y": 1,
          "z": 0.2
         },
         "camera": {
          "eye": {
           "x": 0,
           "y": -1,
           "z": 0.5
          }
         },
         "xaxis": {
          "nticks": 20
         },
         "zaxis": {
          "nticks": 4
         }
        },
        "template": {
         "data": {
          "bar": [
           {
            "error_x": {
             "color": "#2a3f5f"
            },
            "error_y": {
             "color": "#2a3f5f"
            },
            "marker": {
             "line": {
              "color": "#E5ECF6",
              "width": 0.5
             }
            },
            "type": "bar"
           }
          ],
          "barpolar": [
           {
            "marker": {
             "line": {
              "color": "#E5ECF6",
              "width": 0.5
             }
            },
            "type": "barpolar"
           }
          ],
          "carpet": [
           {
            "aaxis": {
             "endlinecolor": "#2a3f5f",
             "gridcolor": "white",
             "linecolor": "white",
             "minorgridcolor": "white",
             "startlinecolor": "#2a3f5f"
            },
            "baxis": {
             "endlinecolor": "#2a3f5f",
             "gridcolor": "white",
             "linecolor": "white",
             "minorgridcolor": "white",
             "startlinecolor": "#2a3f5f"
            },
            "type": "carpet"
           }
          ],
          "choropleth": [
           {
            "colorbar": {
             "outlinewidth": 0,
             "ticks": ""
            },
            "type": "choropleth"
           }
          ],
          "contour": [
           {
            "colorbar": {
             "outlinewidth": 0,
             "ticks": ""
            },
            "colorscale": [
             [
              0,
              "#0d0887"
             ],
             [
              0.1111111111111111,
              "#46039f"
             ],
             [
              0.2222222222222222,
              "#7201a8"
             ],
             [
              0.3333333333333333,
              "#9c179e"
             ],
             [
              0.4444444444444444,
              "#bd3786"
             ],
             [
              0.5555555555555556,
              "#d8576b"
             ],
             [
              0.6666666666666666,
              "#ed7953"
             ],
             [
              0.7777777777777778,
              "#fb9f3a"
             ],
             [
              0.8888888888888888,
              "#fdca26"
             ],
             [
              1,
              "#f0f921"
             ]
            ],
            "type": "contour"
           }
          ],
          "contourcarpet": [
           {
            "colorbar": {
             "outlinewidth": 0,
             "ticks": ""
            },
            "type": "contourcarpet"
           }
          ],
          "heatmap": [
           {
            "colorbar": {
             "outlinewidth": 0,
             "ticks": ""
            },
            "colorscale": [
             [
              0,
              "#0d0887"
             ],
             [
              0.1111111111111111,
              "#46039f"
             ],
             [
              0.2222222222222222,
              "#7201a8"
             ],
             [
              0.3333333333333333,
              "#9c179e"
             ],
             [
              0.4444444444444444,
              "#bd3786"
             ],
             [
              0.5555555555555556,
              "#d8576b"
             ],
             [
              0.6666666666666666,
              "#ed7953"
             ],
             [
              0.7777777777777778,
              "#fb9f3a"
             ],
             [
              0.8888888888888888,
              "#fdca26"
             ],
             [
              1,
              "#f0f921"
             ]
            ],
            "type": "heatmap"
           }
          ],
          "heatmapgl": [
           {
            "colorbar": {
             "outlinewidth": 0,
             "ticks": ""
            },
            "colorscale": [
             [
              0,
              "#0d0887"
             ],
             [
              0.1111111111111111,
              "#46039f"
             ],
             [
              0.2222222222222222,
              "#7201a8"
             ],
             [
              0.3333333333333333,
              "#9c179e"
             ],
             [
              0.4444444444444444,
              "#bd3786"
             ],
             [
              0.5555555555555556,
              "#d8576b"
             ],
             [
              0.6666666666666666,
              "#ed7953"
             ],
             [
              0.7777777777777778,
              "#fb9f3a"
             ],
             [
              0.8888888888888888,
              "#fdca26"
             ],
             [
              1,
              "#f0f921"
             ]
            ],
            "type": "heatmapgl"
           }
          ],
          "histogram": [
           {
            "marker": {
             "colorbar": {
              "outlinewidth": 0,
              "ticks": ""
             }
            },
            "type": "histogram"
           }
          ],
          "histogram2d": [
           {
            "colorbar": {
             "outlinewidth": 0,
             "ticks": ""
            },
            "colorscale": [
             [
              0,
              "#0d0887"
             ],
             [
              0.1111111111111111,
              "#46039f"
             ],
             [
              0.2222222222222222,
              "#7201a8"
             ],
             [
              0.3333333333333333,
              "#9c179e"
             ],
             [
              0.4444444444444444,
              "#bd3786"
             ],
             [
              0.5555555555555556,
              "#d8576b"
             ],
             [
              0.6666666666666666,
              "#ed7953"
             ],
             [
              0.7777777777777778,
              "#fb9f3a"
             ],
             [
              0.8888888888888888,
              "#fdca26"
             ],
             [
              1,
              "#f0f921"
             ]
            ],
            "type": "histogram2d"
           }
          ],
          "histogram2dcontour": [
           {
            "colorbar": {
             "outlinewidth": 0,
             "ticks": ""
            },
            "colorscale": [
             [
              0,
              "#0d0887"
             ],
             [
              0.1111111111111111,
              "#46039f"
             ],
             [
              0.2222222222222222,
              "#7201a8"
             ],
             [
              0.3333333333333333,
              "#9c179e"
             ],
             [
              0.4444444444444444,
              "#bd3786"
             ],
             [
              0.5555555555555556,
              "#d8576b"
             ],
             [
              0.6666666666666666,
              "#ed7953"
             ],
             [
              0.7777777777777778,
              "#fb9f3a"
             ],
             [
              0.8888888888888888,
              "#fdca26"
             ],
             [
              1,
              "#f0f921"
             ]
            ],
            "type": "histogram2dcontour"
           }
          ],
          "mesh3d": [
           {
            "colorbar": {
             "outlinewidth": 0,
             "ticks": ""
            },
            "type": "mesh3d"
           }
          ],
          "parcoords": [
           {
            "line": {
             "colorbar": {
              "outlinewidth": 0,
              "ticks": ""
             }
            },
            "type": "parcoords"
           }
          ],
          "pie": [
           {
            "automargin": true,
            "type": "pie"
           }
          ],
          "scatter": [
           {
            "marker": {
             "colorbar": {
              "outlinewidth": 0,
              "ticks": ""
             }
            },
            "type": "scatter"
           }
          ],
          "scatter3d": [
           {
            "line": {
             "colorbar": {
              "outlinewidth": 0,
              "ticks": ""
             }
            },
            "marker": {
             "colorbar": {
              "outlinewidth": 0,
              "ticks": ""
             }
            },
            "type": "scatter3d"
           }
          ],
          "scattercarpet": [
           {
            "marker": {
             "colorbar": {
              "outlinewidth": 0,
              "ticks": ""
             }
            },
            "type": "scattercarpet"
           }
          ],
          "scattergeo": [
           {
            "marker": {
             "colorbar": {
              "outlinewidth": 0,
              "ticks": ""
             }
            },
            "type": "scattergeo"
           }
          ],
          "scattergl": [
           {
            "marker": {
             "colorbar": {
              "outlinewidth": 0,
              "ticks": ""
             }
            },
            "type": "scattergl"
           }
          ],
          "scattermapbox": [
           {
            "marker": {
             "colorbar": {
              "outlinewidth": 0,
              "ticks": ""
             }
            },
            "type": "scattermapbox"
           }
          ],
          "scatterpolar": [
           {
            "marker": {
             "colorbar": {
              "outlinewidth": 0,
              "ticks": ""
             }
            },
            "type": "scatterpolar"
           }
          ],
          "scatterpolargl": [
           {
            "marker": {
             "colorbar": {
              "outlinewidth": 0,
              "ticks": ""
             }
            },
            "type": "scatterpolargl"
           }
          ],
          "scatterternary": [
           {
            "marker": {
             "colorbar": {
              "outlinewidth": 0,
              "ticks": ""
             }
            },
            "type": "scatterternary"
           }
          ],
          "surface": [
           {
            "colorbar": {
             "outlinewidth": 0,
             "ticks": ""
            },
            "colorscale": [
             [
              0,
              "#0d0887"
             ],
             [
              0.1111111111111111,
              "#46039f"
             ],
             [
              0.2222222222222222,
              "#7201a8"
             ],
             [
              0.3333333333333333,
              "#9c179e"
             ],
             [
              0.4444444444444444,
              "#bd3786"
             ],
             [
              0.5555555555555556,
              "#d8576b"
             ],
             [
              0.6666666666666666,
              "#ed7953"
             ],
             [
              0.7777777777777778,
              "#fb9f3a"
             ],
             [
              0.8888888888888888,
              "#fdca26"
             ],
             [
              1,
              "#f0f921"
             ]
            ],
            "type": "surface"
           }
          ],
          "table": [
           {
            "cells": {
             "fill": {
              "color": "#EBF0F8"
             },
             "line": {
              "color": "white"
             }
            },
            "header": {
             "fill": {
              "color": "#C8D4E3"
             },
             "line": {
              "color": "white"
             }
            },
            "type": "table"
           }
          ]
         },
         "layout": {
          "annotationdefaults": {
           "arrowcolor": "#2a3f5f",
           "arrowhead": 0,
           "arrowwidth": 1
          },
          "autotypenumbers": "strict",
          "coloraxis": {
           "colorbar": {
            "outlinewidth": 0,
            "ticks": ""
           }
          },
          "colorscale": {
           "diverging": [
            [
             0,
             "#8e0152"
            ],
            [
             0.1,
             "#c51b7d"
            ],
            [
             0.2,
             "#de77ae"
            ],
            [
             0.3,
             "#f1b6da"
            ],
            [
             0.4,
             "#fde0ef"
            ],
            [
             0.5,
             "#f7f7f7"
            ],
            [
             0.6,
             "#e6f5d0"
            ],
            [
             0.7,
             "#b8e186"
            ],
            [
             0.8,
             "#7fbc41"
            ],
            [
             0.9,
             "#4d9221"
            ],
            [
             1,
             "#276419"
            ]
           ],
           "sequential": [
            [
             0,
             "#0d0887"
            ],
            [
             0.1111111111111111,
             "#46039f"
            ],
            [
             0.2222222222222222,
             "#7201a8"
            ],
            [
             0.3333333333333333,
             "#9c179e"
            ],
            [
             0.4444444444444444,
             "#bd3786"
            ],
            [
             0.5555555555555556,
             "#d8576b"
            ],
            [
             0.6666666666666666,
             "#ed7953"
            ],
            [
             0.7777777777777778,
             "#fb9f3a"
            ],
            [
             0.8888888888888888,
             "#fdca26"
            ],
            [
             1,
             "#f0f921"
            ]
           ],
           "sequentialminus": [
            [
             0,
             "#0d0887"
            ],
            [
             0.1111111111111111,
             "#46039f"
            ],
            [
             0.2222222222222222,
             "#7201a8"
            ],
            [
             0.3333333333333333,
             "#9c179e"
            ],
            [
             0.4444444444444444,
             "#bd3786"
            ],
            [
             0.5555555555555556,
             "#d8576b"
            ],
            [
             0.6666666666666666,
             "#ed7953"
            ],
            [
             0.7777777777777778,
             "#fb9f3a"
            ],
            [
             0.8888888888888888,
             "#fdca26"
            ],
            [
             1,
             "#f0f921"
            ]
           ]
          },
          "colorway": [
           "#636efa",
           "#EF553B",
           "#00cc96",
           "#ab63fa",
           "#FFA15A",
           "#19d3f3",
           "#FF6692",
           "#B6E880",
           "#FF97FF",
           "#FECB52"
          ],
          "font": {
           "color": "#2a3f5f"
          },
          "geo": {
           "bgcolor": "white",
           "lakecolor": "white",
           "landcolor": "#E5ECF6",
           "showlakes": true,
           "showland": true,
           "subunitcolor": "white"
          },
          "hoverlabel": {
           "align": "left"
          },
          "hovermode": "closest",
          "mapbox": {
           "style": "light"
          },
          "paper_bgcolor": "white",
          "plot_bgcolor": "#E5ECF6",
          "polar": {
           "angularaxis": {
            "gridcolor": "white",
            "linecolor": "white",
            "ticks": ""
           },
           "bgcolor": "#E5ECF6",
           "radialaxis": {
            "gridcolor": "white",
            "linecolor": "white",
            "ticks": ""
           }
          },
          "scene": {
           "xaxis": {
            "backgroundcolor": "#E5ECF6",
            "gridcolor": "white",
            "gridwidth": 2,
            "linecolor": "white",
            "showbackground": true,
            "ticks": "",
            "zerolinecolor": "white"
           },
           "yaxis": {
            "backgroundcolor": "#E5ECF6",
            "gridcolor": "white",
            "gridwidth": 2,
            "linecolor": "white",
            "showbackground": true,
            "ticks": "",
            "zerolinecolor": "white"
           },
           "zaxis": {
            "backgroundcolor": "#E5ECF6",
            "gridcolor": "white",
            "gridwidth": 2,
            "linecolor": "white",
            "showbackground": true,
            "ticks": "",
            "zerolinecolor": "white"
           }
          },
          "shapedefaults": {
           "line": {
            "color": "#2a3f5f"
           }
          },
          "ternary": {
           "aaxis": {
            "gridcolor": "white",
            "linecolor": "white",
            "ticks": ""
           },
           "baxis": {
            "gridcolor": "white",
            "linecolor": "white",
            "ticks": ""
           },
           "bgcolor": "#E5ECF6",
           "caxis": {
            "gridcolor": "white",
            "linecolor": "white",
            "ticks": ""
           }
          },
          "title": {
           "x": 0.05
          },
          "xaxis": {
           "automargin": true,
           "gridcolor": "white",
           "linecolor": "white",
           "ticks": "",
           "title": {
            "standoff": 15
           },
           "zerolinecolor": "white",
           "zerolinewidth": 2
          },
          "yaxis": {
           "automargin": true,
           "gridcolor": "white",
           "linecolor": "white",
           "ticks": "",
           "title": {
            "standoff": 15
           },
           "zerolinecolor": "white",
           "zerolinewidth": 2
          }
         }
        }
       }
      },
      "text/html": [
       "<div>                            <div id=\"226e6691-68c5-43b6-803e-3a908ce4fc10\" class=\"plotly-graph-div\" style=\"height:525px; width:100%;\"></div>            <script type=\"text/javascript\">                require([\"plotly\"], function(Plotly) {                    window.PLOTLYENV=window.PLOTLYENV || {};                                    if (document.getElementById(\"226e6691-68c5-43b6-803e-3a908ce4fc10\")) {                    Plotly.newPlot(                        \"226e6691-68c5-43b6-803e-3a908ce4fc10\",                        [{\"contours\": {\"x\": {\"color\": \"white\", \"end\": 2, \"show\": true, \"size\": 0.04, \"start\": 1.5}, \"z\": {\"end\": 0.8, \"show\": true, \"size\": 0.05, \"start\": 0.5}}, \"type\": \"surface\", \"x\": [-20.0, -15.555555555555555, -11.11111111111111, -6.666666666666666, -2.2222222222222214, 2.2222222222222214, 6.666666666666668, 11.111111111111114, 15.555555555555557, 20.0], \"y\": [-20.0, -15.555555555555555, -11.11111111111111, -6.666666666666666, -2.2222222222222214, 2.2222222222222214, 6.666666666666668, 11.111111111111114, 15.555555555555557, 20.0], \"z\": [800.0, 641.9753086419753, 523.4567901234568, 444.44444444444446, 404.9382716049383, 404.9382716049383, 444.44444444444446, 523.4567901234568, 641.9753086419753, 800.0]}],                        {\"scene\": {\"aspectratio\": {\"x\": 1, \"y\": 1, \"z\": 0.2}, \"camera\": {\"eye\": {\"x\": 0, \"y\": -1, \"z\": 0.5}}, \"xaxis\": {\"nticks\": 20}, \"zaxis\": {\"nticks\": 4}}, \"template\": {\"data\": {\"bar\": [{\"error_x\": {\"color\": \"#2a3f5f\"}, \"error_y\": {\"color\": \"#2a3f5f\"}, \"marker\": {\"line\": {\"color\": \"#E5ECF6\", \"width\": 0.5}}, \"type\": \"bar\"}], \"barpolar\": [{\"marker\": {\"line\": {\"color\": \"#E5ECF6\", \"width\": 0.5}}, \"type\": \"barpolar\"}], \"carpet\": [{\"aaxis\": {\"endlinecolor\": \"#2a3f5f\", \"gridcolor\": \"white\", \"linecolor\": \"white\", \"minorgridcolor\": \"white\", \"startlinecolor\": \"#2a3f5f\"}, \"baxis\": {\"endlinecolor\": \"#2a3f5f\", \"gridcolor\": \"white\", \"linecolor\": \"white\", \"minorgridcolor\": \"white\", \"startlinecolor\": \"#2a3f5f\"}, \"type\": \"carpet\"}], \"choropleth\": [{\"colorbar\": {\"outlinewidth\": 0, \"ticks\": \"\"}, \"type\": \"choropleth\"}], \"contour\": [{\"colorbar\": {\"outlinewidth\": 0, \"ticks\": \"\"}, \"colorscale\": [[0.0, \"#0d0887\"], [0.1111111111111111, \"#46039f\"], [0.2222222222222222, \"#7201a8\"], [0.3333333333333333, \"#9c179e\"], [0.4444444444444444, \"#bd3786\"], [0.5555555555555556, \"#d8576b\"], [0.6666666666666666, \"#ed7953\"], [0.7777777777777778, \"#fb9f3a\"], [0.8888888888888888, \"#fdca26\"], [1.0, \"#f0f921\"]], \"type\": \"contour\"}], \"contourcarpet\": [{\"colorbar\": {\"outlinewidth\": 0, \"ticks\": \"\"}, \"type\": \"contourcarpet\"}], \"heatmap\": [{\"colorbar\": {\"outlinewidth\": 0, \"ticks\": \"\"}, \"colorscale\": [[0.0, \"#0d0887\"], [0.1111111111111111, \"#46039f\"], [0.2222222222222222, \"#7201a8\"], [0.3333333333333333, \"#9c179e\"], [0.4444444444444444, \"#bd3786\"], [0.5555555555555556, \"#d8576b\"], [0.6666666666666666, \"#ed7953\"], [0.7777777777777778, \"#fb9f3a\"], [0.8888888888888888, \"#fdca26\"], [1.0, \"#f0f921\"]], \"type\": \"heatmap\"}], \"heatmapgl\": [{\"colorbar\": {\"outlinewidth\": 0, \"ticks\": \"\"}, \"colorscale\": [[0.0, \"#0d0887\"], [0.1111111111111111, \"#46039f\"], [0.2222222222222222, \"#7201a8\"], [0.3333333333333333, \"#9c179e\"], [0.4444444444444444, \"#bd3786\"], [0.5555555555555556, \"#d8576b\"], [0.6666666666666666, \"#ed7953\"], [0.7777777777777778, \"#fb9f3a\"], [0.8888888888888888, \"#fdca26\"], [1.0, \"#f0f921\"]], \"type\": \"heatmapgl\"}], \"histogram\": [{\"marker\": {\"colorbar\": {\"outlinewidth\": 0, \"ticks\": \"\"}}, \"type\": \"histogram\"}], \"histogram2d\": [{\"colorbar\": {\"outlinewidth\": 0, \"ticks\": \"\"}, \"colorscale\": [[0.0, \"#0d0887\"], [0.1111111111111111, \"#46039f\"], [0.2222222222222222, \"#7201a8\"], [0.3333333333333333, \"#9c179e\"], [0.4444444444444444, \"#bd3786\"], [0.5555555555555556, \"#d8576b\"], [0.6666666666666666, \"#ed7953\"], [0.7777777777777778, \"#fb9f3a\"], [0.8888888888888888, \"#fdca26\"], [1.0, \"#f0f921\"]], \"type\": \"histogram2d\"}], \"histogram2dcontour\": [{\"colorbar\": {\"outlinewidth\": 0, \"ticks\": \"\"}, \"colorscale\": [[0.0, \"#0d0887\"], [0.1111111111111111, \"#46039f\"], [0.2222222222222222, \"#7201a8\"], [0.3333333333333333, \"#9c179e\"], [0.4444444444444444, \"#bd3786\"], [0.5555555555555556, \"#d8576b\"], [0.6666666666666666, \"#ed7953\"], [0.7777777777777778, \"#fb9f3a\"], [0.8888888888888888, \"#fdca26\"], [1.0, \"#f0f921\"]], \"type\": \"histogram2dcontour\"}], \"mesh3d\": [{\"colorbar\": {\"outlinewidth\": 0, \"ticks\": \"\"}, \"type\": \"mesh3d\"}], \"parcoords\": [{\"line\": {\"colorbar\": {\"outlinewidth\": 0, \"ticks\": \"\"}}, \"type\": \"parcoords\"}], \"pie\": [{\"automargin\": true, \"type\": \"pie\"}], \"scatter\": [{\"marker\": {\"colorbar\": {\"outlinewidth\": 0, \"ticks\": \"\"}}, \"type\": \"scatter\"}], \"scatter3d\": [{\"line\": {\"colorbar\": {\"outlinewidth\": 0, \"ticks\": \"\"}}, \"marker\": {\"colorbar\": {\"outlinewidth\": 0, \"ticks\": \"\"}}, \"type\": \"scatter3d\"}], \"scattercarpet\": [{\"marker\": {\"colorbar\": {\"outlinewidth\": 0, \"ticks\": \"\"}}, \"type\": \"scattercarpet\"}], \"scattergeo\": [{\"marker\": {\"colorbar\": {\"outlinewidth\": 0, \"ticks\": \"\"}}, \"type\": \"scattergeo\"}], \"scattergl\": [{\"marker\": {\"colorbar\": {\"outlinewidth\": 0, \"ticks\": \"\"}}, \"type\": \"scattergl\"}], \"scattermapbox\": [{\"marker\": {\"colorbar\": {\"outlinewidth\": 0, \"ticks\": \"\"}}, \"type\": \"scattermapbox\"}], \"scatterpolar\": [{\"marker\": {\"colorbar\": {\"outlinewidth\": 0, \"ticks\": \"\"}}, \"type\": \"scatterpolar\"}], \"scatterpolargl\": [{\"marker\": {\"colorbar\": {\"outlinewidth\": 0, \"ticks\": \"\"}}, \"type\": \"scatterpolargl\"}], \"scatterternary\": [{\"marker\": {\"colorbar\": {\"outlinewidth\": 0, \"ticks\": \"\"}}, \"type\": \"scatterternary\"}], \"surface\": [{\"colorbar\": {\"outlinewidth\": 0, \"ticks\": \"\"}, \"colorscale\": [[0.0, \"#0d0887\"], [0.1111111111111111, \"#46039f\"], [0.2222222222222222, \"#7201a8\"], [0.3333333333333333, \"#9c179e\"], [0.4444444444444444, \"#bd3786\"], [0.5555555555555556, \"#d8576b\"], [0.6666666666666666, \"#ed7953\"], [0.7777777777777778, \"#fb9f3a\"], [0.8888888888888888, \"#fdca26\"], [1.0, \"#f0f921\"]], \"type\": \"surface\"}], \"table\": [{\"cells\": {\"fill\": {\"color\": \"#EBF0F8\"}, \"line\": {\"color\": \"white\"}}, \"header\": {\"fill\": {\"color\": \"#C8D4E3\"}, \"line\": {\"color\": \"white\"}}, \"type\": \"table\"}]}, \"layout\": {\"annotationdefaults\": {\"arrowcolor\": \"#2a3f5f\", \"arrowhead\": 0, \"arrowwidth\": 1}, \"autotypenumbers\": \"strict\", \"coloraxis\": {\"colorbar\": {\"outlinewidth\": 0, \"ticks\": \"\"}}, \"colorscale\": {\"diverging\": [[0, \"#8e0152\"], [0.1, \"#c51b7d\"], [0.2, \"#de77ae\"], [0.3, \"#f1b6da\"], [0.4, \"#fde0ef\"], [0.5, \"#f7f7f7\"], [0.6, \"#e6f5d0\"], [0.7, \"#b8e186\"], [0.8, \"#7fbc41\"], [0.9, \"#4d9221\"], [1, \"#276419\"]], \"sequential\": [[0.0, \"#0d0887\"], [0.1111111111111111, \"#46039f\"], [0.2222222222222222, \"#7201a8\"], [0.3333333333333333, \"#9c179e\"], [0.4444444444444444, \"#bd3786\"], [0.5555555555555556, \"#d8576b\"], [0.6666666666666666, \"#ed7953\"], [0.7777777777777778, \"#fb9f3a\"], [0.8888888888888888, \"#fdca26\"], [1.0, \"#f0f921\"]], \"sequentialminus\": [[0.0, \"#0d0887\"], [0.1111111111111111, \"#46039f\"], [0.2222222222222222, \"#7201a8\"], [0.3333333333333333, \"#9c179e\"], [0.4444444444444444, \"#bd3786\"], [0.5555555555555556, \"#d8576b\"], [0.6666666666666666, \"#ed7953\"], [0.7777777777777778, \"#fb9f3a\"], [0.8888888888888888, \"#fdca26\"], [1.0, \"#f0f921\"]]}, \"colorway\": [\"#636efa\", \"#EF553B\", \"#00cc96\", \"#ab63fa\", \"#FFA15A\", \"#19d3f3\", \"#FF6692\", \"#B6E880\", \"#FF97FF\", \"#FECB52\"], \"font\": {\"color\": \"#2a3f5f\"}, \"geo\": {\"bgcolor\": \"white\", \"lakecolor\": \"white\", \"landcolor\": \"#E5ECF6\", \"showlakes\": true, \"showland\": true, \"subunitcolor\": \"white\"}, \"hoverlabel\": {\"align\": \"left\"}, \"hovermode\": \"closest\", \"mapbox\": {\"style\": \"light\"}, \"paper_bgcolor\": \"white\", \"plot_bgcolor\": \"#E5ECF6\", \"polar\": {\"angularaxis\": {\"gridcolor\": \"white\", \"linecolor\": \"white\", \"ticks\": \"\"}, \"bgcolor\": \"#E5ECF6\", \"radialaxis\": {\"gridcolor\": \"white\", \"linecolor\": \"white\", \"ticks\": \"\"}}, \"scene\": {\"xaxis\": {\"backgroundcolor\": \"#E5ECF6\", \"gridcolor\": \"white\", \"gridwidth\": 2, \"linecolor\": \"white\", \"showbackground\": true, \"ticks\": \"\", \"zerolinecolor\": \"white\"}, \"yaxis\": {\"backgroundcolor\": \"#E5ECF6\", \"gridcolor\": \"white\", \"gridwidth\": 2, \"linecolor\": \"white\", \"showbackground\": true, \"ticks\": \"\", \"zerolinecolor\": \"white\"}, \"zaxis\": {\"backgroundcolor\": \"#E5ECF6\", \"gridcolor\": \"white\", \"gridwidth\": 2, \"linecolor\": \"white\", \"showbackground\": true, \"ticks\": \"\", \"zerolinecolor\": \"white\"}}, \"shapedefaults\": {\"line\": {\"color\": \"#2a3f5f\"}}, \"ternary\": {\"aaxis\": {\"gridcolor\": \"white\", \"linecolor\": \"white\", \"ticks\": \"\"}, \"baxis\": {\"gridcolor\": \"white\", \"linecolor\": \"white\", \"ticks\": \"\"}, \"bgcolor\": \"#E5ECF6\", \"caxis\": {\"gridcolor\": \"white\", \"linecolor\": \"white\", \"ticks\": \"\"}}, \"title\": {\"x\": 0.05}, \"xaxis\": {\"automargin\": true, \"gridcolor\": \"white\", \"linecolor\": \"white\", \"ticks\": \"\", \"title\": {\"standoff\": 15}, \"zerolinecolor\": \"white\", \"zerolinewidth\": 2}, \"yaxis\": {\"automargin\": true, \"gridcolor\": \"white\", \"linecolor\": \"white\", \"ticks\": \"\", \"title\": {\"standoff\": 15}, \"zerolinecolor\": \"white\", \"zerolinewidth\": 2}}}},                        {\"responsive\": true}                    ).then(function(){\n",
       "                            \n",
       "var gd = document.getElementById('226e6691-68c5-43b6-803e-3a908ce4fc10');\n",
       "var x = new MutationObserver(function (mutations, observer) {{\n",
       "        var display = window.getComputedStyle(gd).display;\n",
       "        if (!display || display === 'none') {{\n",
       "            console.log([gd, 'removed!']);\n",
       "            Plotly.purge(gd);\n",
       "            observer.disconnect();\n",
       "        }}\n",
       "}});\n",
       "\n",
       "// Listen for the removal of the full notebook cells\n",
       "var notebookContainer = gd.closest('#notebook-container');\n",
       "if (notebookContainer) {{\n",
       "    x.observe(notebookContainer, {childList: true});\n",
       "}}\n",
       "\n",
       "// Listen for the clearing of the current output cell\n",
       "var outputEl = gd.closest('.output');\n",
       "if (outputEl) {{\n",
       "    x.observe(outputEl, {childList: true});\n",
       "}}\n",
       "\n",
       "                        })                };                });            </script>        </div>"
      ]
     },
     "metadata": {},
     "output_type": "display_data"
    }
   ],
   "source": [
    "#print(z_i)#Двумерная ааа, нужно взять напраление и сделать\n",
    "\n",
    "x_i=np.linspace(-20,20,10)\n",
    "y_i=np.linspace(-20,20,10)\n",
    "z_i=[]\n",
    "for i in x_i:\n",
    "    zt=[]\n",
    "    for j in y_i:\n",
    "        zt.append(test_case[0](np.array([i,j])))\n",
    "    z_i.append(zt)\n",
    "fig=go.Figure(data=[go.Surface(\n",
    "    contours = {\n",
    "        \"x\": {\"show\": True, \"start\": 1.5, \"end\": 2, \"size\": 0.04, \"color\":\"white\"},\n",
    "        \"z\": {\"show\": True, \"start\": 0.5, \"end\": 0.8, \"size\": 0.05}\n",
    "    },\n",
    "    x = x_i,\n",
    "    y = y_i,\n",
    "    z = z_i)])\n",
    "fig.update_layout(\n",
    "        scene = {\n",
    "            \"xaxis\": {\"nticks\": 20},\n",
    "            \"zaxis\": {\"nticks\": 4},\n",
    "            'camera_eye': {\"x\": 0, \"y\": -1, \"z\": 0.5},\n",
    "            \"aspectratio\": {\"x\": 1, \"y\": 1, \"z\": 0.2}\n",
    "        })\n",
    "fig.show()"
   ]
  },
  {
   "cell_type": "code",
   "execution_count": 119,
   "id": "competent-audit",
   "metadata": {},
   "outputs": [
    {
     "data": {
      "text/plain": [
       "[[array([-40., -40.]),\n",
       "  array([-40.        , -31.11111111]),\n",
       "  array([-40.        , -22.22222222]),\n",
       "  array([-40.        , -13.33333333]),\n",
       "  array([-40.        ,  -4.44444444]),\n",
       "  array([-40.        ,   4.44444444]),\n",
       "  array([-40.        ,  13.33333333]),\n",
       "  array([-40.        ,  22.22222222]),\n",
       "  array([-40.        ,  31.11111111]),\n",
       "  array([-40.,  40.])],\n",
       " [array([-31.11111111, -40.        ]),\n",
       "  array([-31.11111111, -31.11111111]),\n",
       "  array([-31.11111111, -22.22222222]),\n",
       "  array([-31.11111111, -13.33333333]),\n",
       "  array([-31.11111111,  -4.44444444]),\n",
       "  array([-31.11111111,   4.44444444]),\n",
       "  array([-31.11111111,  13.33333333]),\n",
       "  array([-31.11111111,  22.22222222]),\n",
       "  array([-31.11111111,  31.11111111]),\n",
       "  array([-31.11111111,  40.        ])],\n",
       " [array([-22.22222222, -40.        ]),\n",
       "  array([-22.22222222, -31.11111111]),\n",
       "  array([-22.22222222, -22.22222222]),\n",
       "  array([-22.22222222, -13.33333333]),\n",
       "  array([-22.22222222,  -4.44444444]),\n",
       "  array([-22.22222222,   4.44444444]),\n",
       "  array([-22.22222222,  13.33333333]),\n",
       "  array([-22.22222222,  22.22222222]),\n",
       "  array([-22.22222222,  31.11111111]),\n",
       "  array([-22.22222222,  40.        ])],\n",
       " [array([-13.33333333, -40.        ]),\n",
       "  array([-13.33333333, -31.11111111]),\n",
       "  array([-13.33333333, -22.22222222]),\n",
       "  array([-13.33333333, -13.33333333]),\n",
       "  array([-13.33333333,  -4.44444444]),\n",
       "  array([-13.33333333,   4.44444444]),\n",
       "  array([-13.33333333,  13.33333333]),\n",
       "  array([-13.33333333,  22.22222222]),\n",
       "  array([-13.33333333,  31.11111111]),\n",
       "  array([-13.33333333,  40.        ])],\n",
       " [array([ -4.44444444, -40.        ]),\n",
       "  array([ -4.44444444, -31.11111111]),\n",
       "  array([ -4.44444444, -22.22222222]),\n",
       "  array([ -4.44444444, -13.33333333]),\n",
       "  array([-4.44444444, -4.44444444]),\n",
       "  array([-4.44444444,  4.44444444]),\n",
       "  array([-4.44444444, 13.33333333]),\n",
       "  array([-4.44444444, 22.22222222]),\n",
       "  array([-4.44444444, 31.11111111]),\n",
       "  array([-4.44444444, 40.        ])],\n",
       " [array([  4.44444444, -40.        ]),\n",
       "  array([  4.44444444, -31.11111111]),\n",
       "  array([  4.44444444, -22.22222222]),\n",
       "  array([  4.44444444, -13.33333333]),\n",
       "  array([ 4.44444444, -4.44444444]),\n",
       "  array([4.44444444, 4.44444444]),\n",
       "  array([ 4.44444444, 13.33333333]),\n",
       "  array([ 4.44444444, 22.22222222]),\n",
       "  array([ 4.44444444, 31.11111111]),\n",
       "  array([ 4.44444444, 40.        ])],\n",
       " [array([ 13.33333333, -40.        ]),\n",
       "  array([ 13.33333333, -31.11111111]),\n",
       "  array([ 13.33333333, -22.22222222]),\n",
       "  array([ 13.33333333, -13.33333333]),\n",
       "  array([13.33333333, -4.44444444]),\n",
       "  array([13.33333333,  4.44444444]),\n",
       "  array([13.33333333, 13.33333333]),\n",
       "  array([13.33333333, 22.22222222]),\n",
       "  array([13.33333333, 31.11111111]),\n",
       "  array([13.33333333, 40.        ])],\n",
       " [array([ 22.22222222, -40.        ]),\n",
       "  array([ 22.22222222, -31.11111111]),\n",
       "  array([ 22.22222222, -22.22222222]),\n",
       "  array([ 22.22222222, -13.33333333]),\n",
       "  array([22.22222222, -4.44444444]),\n",
       "  array([22.22222222,  4.44444444]),\n",
       "  array([22.22222222, 13.33333333]),\n",
       "  array([22.22222222, 22.22222222]),\n",
       "  array([22.22222222, 31.11111111]),\n",
       "  array([22.22222222, 40.        ])],\n",
       " [array([ 31.11111111, -40.        ]),\n",
       "  array([ 31.11111111, -31.11111111]),\n",
       "  array([ 31.11111111, -22.22222222]),\n",
       "  array([ 31.11111111, -13.33333333]),\n",
       "  array([31.11111111, -4.44444444]),\n",
       "  array([31.11111111,  4.44444444]),\n",
       "  array([31.11111111, 13.33333333]),\n",
       "  array([31.11111111, 22.22222222]),\n",
       "  array([31.11111111, 31.11111111]),\n",
       "  array([31.11111111, 40.        ])],\n",
       " [array([ 40., -40.]),\n",
       "  array([ 40.        , -31.11111111]),\n",
       "  array([ 40.        , -22.22222222]),\n",
       "  array([ 40.        , -13.33333333]),\n",
       "  array([40.        , -4.44444444]),\n",
       "  array([40.        ,  4.44444444]),\n",
       "  array([40.        , 13.33333333]),\n",
       "  array([40.        , 22.22222222]),\n",
       "  array([40.        , 31.11111111]),\n",
       "  array([40., 40.])]]"
      ]
     },
     "execution_count": 119,
     "metadata": {},
     "output_type": "execute_result"
    }
   ],
   "source": [
    "z_i"
   ]
  },
  {
   "cell_type": "code",
   "execution_count": null,
   "id": "undefined-tampa",
   "metadata": {},
   "outputs": [],
   "source": []
  }
 ],
 "metadata": {
  "kernelspec": {
   "display_name": "Python 3",
   "language": "python",
   "name": "python3"
  },
  "language_info": {
   "codemirror_mode": {
    "name": "ipython",
    "version": 3
   },
   "file_extension": ".py",
   "mimetype": "text/x-python",
   "name": "python",
   "nbconvert_exporter": "python",
   "pygments_lexer": "ipython3",
   "version": "3.7.6"
  }
 },
 "nbformat": 4,
 "nbformat_minor": 5
}
